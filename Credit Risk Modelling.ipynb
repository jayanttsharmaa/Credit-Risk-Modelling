{
 "cells": [
  {
   "cell_type": "code",
   "execution_count": 2,
   "metadata": {},
   "outputs": [],
   "source": [
    "import pandas as pd\n",
    "import numpy as np\n",
    "from sklearn import preprocessing\n",
    "from sklearn.model_selection import train_test_split\n",
    "from sklearn.tree import DecisionTreeClassifier\n",
    "from sklearn.linear_model import LogisticRegression\n",
    "from sklearn.metrics import confusion_matrix\n",
    "from sklearn.metrics import accuracy_score\n",
    "from sklearn.metrics import roc_curve, auc\n",
    "import seaborn as sns\n",
    "import matplotlib.pyplot as plt\n",
    "from sklearn.model_selection import train_test_split, GridSearchCV\n",
    "from sklearn.ensemble import RandomForestClassifier"
   ]
  },
  {
   "cell_type": "code",
   "execution_count": 3,
   "metadata": {},
   "outputs": [
    {
     "name": "stderr",
     "output_type": "stream",
     "text": [
      "C:\\ProgramData\\Anaconda3\\lib\\site-packages\\IPython\\core\\interactiveshell.py:3058: DtypeWarning: Columns (19,55) have mixed types. Specify dtype option on import or set low_memory=False.\n",
      "  interactivity=interactivity, compiler=compiler, result=result)\n"
     ]
    }
   ],
   "source": [
    "df_loan = pd.read_csv('C:/Users/ACT/LearnBay/Capstone Project/loan.csv')"
   ]
  },
  {
   "cell_type": "code",
   "execution_count": 6,
   "metadata": {},
   "outputs": [],
   "source": [
    "pd.set_option('display.max_columns',None)"
   ]
  },
  {
   "cell_type": "code",
   "execution_count": 4,
   "metadata": {
    "scrolled": true
   },
   "outputs": [
    {
     "data": {
      "text/html": [
       "<div>\n",
       "<style scoped>\n",
       "    .dataframe tbody tr th:only-of-type {\n",
       "        vertical-align: middle;\n",
       "    }\n",
       "\n",
       "    .dataframe tbody tr th {\n",
       "        vertical-align: top;\n",
       "    }\n",
       "\n",
       "    .dataframe thead th {\n",
       "        text-align: right;\n",
       "    }\n",
       "</style>\n",
       "<table border=\"1\" class=\"dataframe\">\n",
       "  <thead>\n",
       "    <tr style=\"text-align: right;\">\n",
       "      <th></th>\n",
       "      <th>id</th>\n",
       "      <th>member_id</th>\n",
       "      <th>loan_amnt</th>\n",
       "      <th>funded_amnt</th>\n",
       "      <th>funded_amnt_inv</th>\n",
       "      <th>term</th>\n",
       "      <th>int_rate</th>\n",
       "      <th>installment</th>\n",
       "      <th>grade</th>\n",
       "      <th>sub_grade</th>\n",
       "      <th>...</th>\n",
       "      <th>total_bal_il</th>\n",
       "      <th>il_util</th>\n",
       "      <th>open_rv_12m</th>\n",
       "      <th>open_rv_24m</th>\n",
       "      <th>max_bal_bc</th>\n",
       "      <th>all_util</th>\n",
       "      <th>total_rev_hi_lim</th>\n",
       "      <th>inq_fi</th>\n",
       "      <th>total_cu_tl</th>\n",
       "      <th>inq_last_12m</th>\n",
       "    </tr>\n",
       "  </thead>\n",
       "  <tbody>\n",
       "    <tr>\n",
       "      <td>0</td>\n",
       "      <td>1077501</td>\n",
       "      <td>1296599</td>\n",
       "      <td>5000.0</td>\n",
       "      <td>5000.0</td>\n",
       "      <td>4975.0</td>\n",
       "      <td>36 months</td>\n",
       "      <td>10.65</td>\n",
       "      <td>162.87</td>\n",
       "      <td>B</td>\n",
       "      <td>B2</td>\n",
       "      <td>...</td>\n",
       "      <td>NaN</td>\n",
       "      <td>NaN</td>\n",
       "      <td>NaN</td>\n",
       "      <td>NaN</td>\n",
       "      <td>NaN</td>\n",
       "      <td>NaN</td>\n",
       "      <td>NaN</td>\n",
       "      <td>NaN</td>\n",
       "      <td>NaN</td>\n",
       "      <td>NaN</td>\n",
       "    </tr>\n",
       "    <tr>\n",
       "      <td>1</td>\n",
       "      <td>1077430</td>\n",
       "      <td>1314167</td>\n",
       "      <td>2500.0</td>\n",
       "      <td>2500.0</td>\n",
       "      <td>2500.0</td>\n",
       "      <td>60 months</td>\n",
       "      <td>15.27</td>\n",
       "      <td>59.83</td>\n",
       "      <td>C</td>\n",
       "      <td>C4</td>\n",
       "      <td>...</td>\n",
       "      <td>NaN</td>\n",
       "      <td>NaN</td>\n",
       "      <td>NaN</td>\n",
       "      <td>NaN</td>\n",
       "      <td>NaN</td>\n",
       "      <td>NaN</td>\n",
       "      <td>NaN</td>\n",
       "      <td>NaN</td>\n",
       "      <td>NaN</td>\n",
       "      <td>NaN</td>\n",
       "    </tr>\n",
       "    <tr>\n",
       "      <td>2</td>\n",
       "      <td>1077175</td>\n",
       "      <td>1313524</td>\n",
       "      <td>2400.0</td>\n",
       "      <td>2400.0</td>\n",
       "      <td>2400.0</td>\n",
       "      <td>36 months</td>\n",
       "      <td>15.96</td>\n",
       "      <td>84.33</td>\n",
       "      <td>C</td>\n",
       "      <td>C5</td>\n",
       "      <td>...</td>\n",
       "      <td>NaN</td>\n",
       "      <td>NaN</td>\n",
       "      <td>NaN</td>\n",
       "      <td>NaN</td>\n",
       "      <td>NaN</td>\n",
       "      <td>NaN</td>\n",
       "      <td>NaN</td>\n",
       "      <td>NaN</td>\n",
       "      <td>NaN</td>\n",
       "      <td>NaN</td>\n",
       "    </tr>\n",
       "    <tr>\n",
       "      <td>3</td>\n",
       "      <td>1076863</td>\n",
       "      <td>1277178</td>\n",
       "      <td>10000.0</td>\n",
       "      <td>10000.0</td>\n",
       "      <td>10000.0</td>\n",
       "      <td>36 months</td>\n",
       "      <td>13.49</td>\n",
       "      <td>339.31</td>\n",
       "      <td>C</td>\n",
       "      <td>C1</td>\n",
       "      <td>...</td>\n",
       "      <td>NaN</td>\n",
       "      <td>NaN</td>\n",
       "      <td>NaN</td>\n",
       "      <td>NaN</td>\n",
       "      <td>NaN</td>\n",
       "      <td>NaN</td>\n",
       "      <td>NaN</td>\n",
       "      <td>NaN</td>\n",
       "      <td>NaN</td>\n",
       "      <td>NaN</td>\n",
       "    </tr>\n",
       "    <tr>\n",
       "      <td>4</td>\n",
       "      <td>1075358</td>\n",
       "      <td>1311748</td>\n",
       "      <td>3000.0</td>\n",
       "      <td>3000.0</td>\n",
       "      <td>3000.0</td>\n",
       "      <td>60 months</td>\n",
       "      <td>12.69</td>\n",
       "      <td>67.79</td>\n",
       "      <td>B</td>\n",
       "      <td>B5</td>\n",
       "      <td>...</td>\n",
       "      <td>NaN</td>\n",
       "      <td>NaN</td>\n",
       "      <td>NaN</td>\n",
       "      <td>NaN</td>\n",
       "      <td>NaN</td>\n",
       "      <td>NaN</td>\n",
       "      <td>NaN</td>\n",
       "      <td>NaN</td>\n",
       "      <td>NaN</td>\n",
       "      <td>NaN</td>\n",
       "    </tr>\n",
       "  </tbody>\n",
       "</table>\n",
       "<p>5 rows × 74 columns</p>\n",
       "</div>"
      ],
      "text/plain": [
       "        id  member_id  loan_amnt  funded_amnt  funded_amnt_inv        term  \\\n",
       "0  1077501    1296599     5000.0       5000.0           4975.0   36 months   \n",
       "1  1077430    1314167     2500.0       2500.0           2500.0   60 months   \n",
       "2  1077175    1313524     2400.0       2400.0           2400.0   36 months   \n",
       "3  1076863    1277178    10000.0      10000.0          10000.0   36 months   \n",
       "4  1075358    1311748     3000.0       3000.0           3000.0   60 months   \n",
       "\n",
       "   int_rate  installment grade sub_grade  ... total_bal_il il_util  \\\n",
       "0     10.65       162.87     B        B2  ...          NaN     NaN   \n",
       "1     15.27        59.83     C        C4  ...          NaN     NaN   \n",
       "2     15.96        84.33     C        C5  ...          NaN     NaN   \n",
       "3     13.49       339.31     C        C1  ...          NaN     NaN   \n",
       "4     12.69        67.79     B        B5  ...          NaN     NaN   \n",
       "\n",
       "  open_rv_12m  open_rv_24m max_bal_bc all_util total_rev_hi_lim inq_fi  \\\n",
       "0         NaN          NaN        NaN      NaN              NaN    NaN   \n",
       "1         NaN          NaN        NaN      NaN              NaN    NaN   \n",
       "2         NaN          NaN        NaN      NaN              NaN    NaN   \n",
       "3         NaN          NaN        NaN      NaN              NaN    NaN   \n",
       "4         NaN          NaN        NaN      NaN              NaN    NaN   \n",
       "\n",
       "  total_cu_tl inq_last_12m  \n",
       "0         NaN          NaN  \n",
       "1         NaN          NaN  \n",
       "2         NaN          NaN  \n",
       "3         NaN          NaN  \n",
       "4         NaN          NaN  \n",
       "\n",
       "[5 rows x 74 columns]"
      ]
     },
     "execution_count": 4,
     "metadata": {},
     "output_type": "execute_result"
    }
   ],
   "source": [
    "df_loan.head()"
   ]
  },
  {
   "cell_type": "code",
   "execution_count": 7,
   "metadata": {},
   "outputs": [],
   "source": [
    "# Compulsory drop of ID type of Features\n",
    "# 1) ID type features simply act as row identifiers when data get built into the database\n",
    "# 2) ID can falsely become the best predictor when it ideally should not be a driving factor for the outcome\n",
    "df_loan=df_loan.drop(['id','member_id'],axis=1)"
   ]
  },
  {
   "cell_type": "code",
   "execution_count": 8,
   "metadata": {
    "scrolled": false
   },
   "outputs": [],
   "source": [
    "#pd.set_option('max_columns',None)\n",
    "#df_loan.head()"
   ]
  },
  {
   "cell_type": "code",
   "execution_count": 9,
   "metadata": {},
   "outputs": [
    {
     "data": {
      "text/plain": [
       "loan_amnt           float64\n",
       "funded_amnt         float64\n",
       "funded_amnt_inv     float64\n",
       "term                 object\n",
       "int_rate            float64\n",
       "                     ...   \n",
       "all_util            float64\n",
       "total_rev_hi_lim    float64\n",
       "inq_fi              float64\n",
       "total_cu_tl         float64\n",
       "inq_last_12m        float64\n",
       "Length: 72, dtype: object"
      ]
     },
     "execution_count": 9,
     "metadata": {},
     "output_type": "execute_result"
    }
   ],
   "source": [
    "df_loan.dtypes"
   ]
  },
  {
   "cell_type": "code",
   "execution_count": 10,
   "metadata": {},
   "outputs": [],
   "source": [
    "# Creating a Frequency Table in Pandas for each categorical\n",
    "# dataframe['categorical feature'].value_counts()  --- value_counts() function will show you which all values the categorical \n",
    "# feature will take and also how many observations are there for each of them"
   ]
  },
  {
   "cell_type": "code",
   "execution_count": 11,
   "metadata": {
    "scrolled": true
   },
   "outputs": [
    {
     "data": {
      "text/plain": [
       "Current                                                601779\n",
       "Fully Paid                                             207723\n",
       "Charged Off                                             45248\n",
       "Late (31-120 days)                                      11591\n",
       "Issued                                                   8460\n",
       "In Grace Period                                          6253\n",
       "Late (16-30 days)                                        2357\n",
       "Does not meet the credit policy. Status:Fully Paid       1988\n",
       "Default                                                  1219\n",
       "Does not meet the credit policy. Status:Charged Off       761\n",
       "Name: loan_status, dtype: int64"
      ]
     },
     "execution_count": 11,
     "metadata": {},
     "output_type": "execute_result"
    }
   ],
   "source": [
    "#Analyzing loan_status variable for getting a better understanding of the categories and the counts\n",
    "df_loan['loan_status'].value_counts()"
   ]
  },
  {
   "cell_type": "code",
   "execution_count": 12,
   "metadata": {},
   "outputs": [],
   "source": [
    "# Define the Dependent Variable "
   ]
  },
  {
   "cell_type": "code",
   "execution_count": 13,
   "metadata": {},
   "outputs": [],
   "source": [
    "\n",
    "df_loan['target']=np.where(df_loan['loan_status'].isin(['Default','Charged Off','Does not meet the credit policy. Status:Charged Off']),1,0)\n"
   ]
  },
  {
   "cell_type": "code",
   "execution_count": 14,
   "metadata": {},
   "outputs": [],
   "source": [
    "# Drop the loan_status variable\n",
    "df_loan=df_loan.drop(['loan_status'],axis=1)"
   ]
  },
  {
   "cell_type": "code",
   "execution_count": 14,
   "metadata": {},
   "outputs": [],
   "source": [
    "# Calculate the default rate or event rate in the data"
   ]
  },
  {
   "cell_type": "code",
   "execution_count": 16,
   "metadata": {},
   "outputs": [
    {
     "data": {
      "text/plain": [
       "0.053221904056778443"
      ]
     },
     "execution_count": 16,
     "metadata": {},
     "output_type": "execute_result"
    }
   ],
   "source": [
    "#Classical Probability Definition gives us the rate of events\n",
    "df_loan['target'].mean()"
   ]
  },
  {
   "cell_type": "code",
   "execution_count": 13,
   "metadata": {},
   "outputs": [
    {
     "data": {
      "text/plain": [
       "(887379, 72)"
      ]
     },
     "execution_count": 13,
     "metadata": {},
     "output_type": "execute_result"
    }
   ],
   "source": [
    "df_loan.shape"
   ]
  },
  {
   "cell_type": "code",
   "execution_count": 17,
   "metadata": {},
   "outputs": [],
   "source": [
    "# Missing Value Analysis"
   ]
  },
  {
   "cell_type": "code",
   "execution_count": 17,
   "metadata": {},
   "outputs": [
    {
     "data": {
      "text/plain": [
       "loan_amnt                      0.000000\n",
       "funded_amnt                    0.000000\n",
       "funded_amnt_inv                0.000000\n",
       "term                           0.000000\n",
       "int_rate                       0.000000\n",
       "installment                    0.000000\n",
       "grade                          0.000000\n",
       "sub_grade                      0.000000\n",
       "emp_title                      0.057993\n",
       "emp_length                     0.050514\n",
       "home_ownership                 0.000000\n",
       "annual_inc                     0.000005\n",
       "verification_status            0.000000\n",
       "issue_d                        0.000000\n",
       "pymnt_plan                     0.000000\n",
       "url                            0.000000\n",
       "desc                           0.857977\n",
       "purpose                        0.000000\n",
       "title                          0.000171\n",
       "zip_code                       0.000000\n",
       "addr_state                     0.000000\n",
       "dti                            0.000000\n",
       "delinq_2yrs                    0.000033\n",
       "earliest_cr_line               0.000033\n",
       "inq_last_6mths                 0.000033\n",
       "mths_since_last_delinq         0.511971\n",
       "mths_since_last_record         0.845553\n",
       "open_acc                       0.000033\n",
       "pub_rec                        0.000033\n",
       "revol_bal                      0.000000\n",
       "                                 ...   \n",
       "last_pymnt_d                   0.019900\n",
       "last_pymnt_amnt                0.000000\n",
       "next_pymnt_d                   0.285077\n",
       "last_credit_pull_d             0.000060\n",
       "collections_12_mths_ex_med     0.000163\n",
       "mths_since_last_major_derog    0.750160\n",
       "policy_code                    0.000000\n",
       "application_type               0.000000\n",
       "annual_inc_joint               0.999424\n",
       "dti_joint                      0.999426\n",
       "verification_status_joint      0.999424\n",
       "acc_now_delinq                 0.000033\n",
       "tot_coll_amt                   0.079195\n",
       "tot_cur_bal                    0.079195\n",
       "open_acc_6m                    0.975916\n",
       "open_il_6m                     0.975916\n",
       "open_il_12m                    0.975916\n",
       "open_il_24m                    0.975916\n",
       "mths_since_rcnt_il             0.976549\n",
       "total_bal_il                   0.975916\n",
       "il_util                        0.979020\n",
       "open_rv_12m                    0.975916\n",
       "open_rv_24m                    0.975916\n",
       "max_bal_bc                     0.975916\n",
       "all_util                       0.975916\n",
       "total_rev_hi_lim               0.079195\n",
       "inq_fi                         0.975916\n",
       "total_cu_tl                    0.975916\n",
       "inq_last_12m                   0.975916\n",
       "target                         0.000000\n",
       "Length: 72, dtype: float64"
      ]
     },
     "execution_count": 17,
     "metadata": {},
     "output_type": "execute_result"
    }
   ],
   "source": [
    "df_loan.isnull().mean()"
   ]
  },
  {
   "cell_type": "code",
   "execution_count": 19,
   "metadata": {},
   "outputs": [],
   "source": [
    "#data['open_acc_6m_Rank']=pd.qcut(data['open_acc_6m'].rank(method='first').values,10,duplicates='drop').codes+1"
   ]
  },
  {
   "cell_type": "code",
   "execution_count": 8,
   "metadata": {},
   "outputs": [],
   "source": [
    "# Selecting all rows and only those columns where the missing value percentage is <=25%\n",
    "data=df_loan.loc[:,df_loan.isnull().mean()<=0.25]"
   ]
  },
  {
   "cell_type": "code",
   "execution_count": 19,
   "metadata": {},
   "outputs": [
    {
     "data": {
      "text/plain": [
       "(887379, 50)"
      ]
     },
     "execution_count": 19,
     "metadata": {},
     "output_type": "execute_result"
    }
   ],
   "source": [
    "data.shape"
   ]
  },
  {
   "cell_type": "code",
   "execution_count": null,
   "metadata": {},
   "outputs": [],
   "source": [
    "# 22 Features dropped Due to more than 25% Missing Values"
   ]
  },
  {
   "cell_type": "code",
   "execution_count": 9,
   "metadata": {},
   "outputs": [],
   "source": [
    "# Creating a dataset with only dependent and independent\n",
    "Y=data[['target']]\n",
    "X=data.drop(['target'],axis=1)"
   ]
  },
  {
   "cell_type": "code",
   "execution_count": 10,
   "metadata": {},
   "outputs": [],
   "source": [
    "char=X.select_dtypes(include='object')\n",
    "num=X.select_dtypes(include='number')"
   ]
  },
  {
   "cell_type": "code",
   "execution_count": 22,
   "metadata": {},
   "outputs": [
    {
     "data": {
      "text/plain": [
       "(887379, 19)"
      ]
     },
     "execution_count": 22,
     "metadata": {},
     "output_type": "execute_result"
    }
   ],
   "source": [
    "# We have 19 Categorical features\n",
    "char.shape"
   ]
  },
  {
   "cell_type": "code",
   "execution_count": 23,
   "metadata": {},
   "outputs": [
    {
     "data": {
      "text/plain": [
       "(887379, 30)"
      ]
     },
     "execution_count": 23,
     "metadata": {},
     "output_type": "execute_result"
    }
   ],
   "source": [
    "# We have 30 numeric features\n",
    "num.shape"
   ]
  },
  {
   "cell_type": "code",
   "execution_count": 24,
   "metadata": {},
   "outputs": [
    {
     "data": {
      "text/plain": [
       "loan_amnt                     0.000000\n",
       "funded_amnt                   0.000000\n",
       "funded_amnt_inv               0.000000\n",
       "int_rate                      0.000000\n",
       "installment                   0.000000\n",
       "annual_inc                    0.000005\n",
       "dti                           0.000000\n",
       "delinq_2yrs                   0.000033\n",
       "inq_last_6mths                0.000033\n",
       "open_acc                      0.000033\n",
       "pub_rec                       0.000033\n",
       "revol_bal                     0.000000\n",
       "revol_util                    0.000566\n",
       "total_acc                     0.000033\n",
       "out_prncp                     0.000000\n",
       "out_prncp_inv                 0.000000\n",
       "total_pymnt                   0.000000\n",
       "total_pymnt_inv               0.000000\n",
       "total_rec_prncp               0.000000\n",
       "total_rec_int                 0.000000\n",
       "total_rec_late_fee            0.000000\n",
       "recoveries                    0.000000\n",
       "collection_recovery_fee       0.000000\n",
       "last_pymnt_amnt               0.000000\n",
       "collections_12_mths_ex_med    0.000163\n",
       "policy_code                   0.000000\n",
       "acc_now_delinq                0.000033\n",
       "tot_coll_amt                  0.079195\n",
       "tot_cur_bal                   0.079195\n",
       "total_rev_hi_lim              0.079195\n",
       "dtype: float64"
      ]
     },
     "execution_count": 24,
     "metadata": {},
     "output_type": "execute_result"
    }
   ],
   "source": [
    "num.isnull().mean()"
   ]
  },
  {
   "cell_type": "code",
   "execution_count": 25,
   "metadata": {},
   "outputs": [
    {
     "data": {
      "text/plain": [
       "(887379, 19)"
      ]
     },
     "execution_count": 25,
     "metadata": {},
     "output_type": "execute_result"
    }
   ],
   "source": [
    "char.shape"
   ]
  },
  {
   "cell_type": "code",
   "execution_count": 11,
   "metadata": {
    "scrolled": true
   },
   "outputs": [],
   "source": [
    "from sklearn.impute import SimpleImputer\n",
    "imputer = SimpleImputer(missing_values=np.nan, strategy='mean')\n",
    "num_1=pd.DataFrame(imputer.fit_transform(num),index=num.index,columns=num.columns)"
   ]
  },
  {
   "cell_type": "code",
   "execution_count": 12,
   "metadata": {
    "scrolled": true
   },
   "outputs": [
    {
     "data": {
      "text/plain": [
       "loan_amnt                     0.0\n",
       "funded_amnt                   0.0\n",
       "funded_amnt_inv               0.0\n",
       "int_rate                      0.0\n",
       "installment                   0.0\n",
       "annual_inc                    0.0\n",
       "dti                           0.0\n",
       "delinq_2yrs                   0.0\n",
       "inq_last_6mths                0.0\n",
       "open_acc                      0.0\n",
       "pub_rec                       0.0\n",
       "revol_bal                     0.0\n",
       "revol_util                    0.0\n",
       "total_acc                     0.0\n",
       "out_prncp                     0.0\n",
       "out_prncp_inv                 0.0\n",
       "total_pymnt                   0.0\n",
       "total_pymnt_inv               0.0\n",
       "total_rec_prncp               0.0\n",
       "total_rec_int                 0.0\n",
       "total_rec_late_fee            0.0\n",
       "recoveries                    0.0\n",
       "collection_recovery_fee       0.0\n",
       "last_pymnt_amnt               0.0\n",
       "collections_12_mths_ex_med    0.0\n",
       "policy_code                   0.0\n",
       "acc_now_delinq                0.0\n",
       "tot_coll_amt                  0.0\n",
       "tot_cur_bal                   0.0\n",
       "total_rev_hi_lim              0.0\n",
       "dtype: float64"
      ]
     },
     "execution_count": 12,
     "metadata": {},
     "output_type": "execute_result"
    }
   ],
   "source": [
    "num_1.isnull().mean()"
   ]
  },
  {
   "cell_type": "markdown",
   "metadata": {},
   "source": [
    "# Replace the missing valus in Categorical using the Mode or the Most Frequent Strategy\n",
    "from sklearn.impute import SimpleImputer\n",
    "imputer=SimpleImputer(missing_values=np.nan, strategy='most_frequent')\n",
    "char_1=pd.DataFrame(imputer.fit_transform(char),index=char.index,columns=char.columns)"
   ]
  },
  {
   "cell_type": "code",
   "execution_count": 13,
   "metadata": {},
   "outputs": [],
   "source": [
    "char_1=char.fillna(0)"
   ]
  },
  {
   "cell_type": "code",
   "execution_count": 14,
   "metadata": {
    "scrolled": false
   },
   "outputs": [
    {
     "data": {
      "text/plain": [
       "term                   0.0\n",
       "grade                  0.0\n",
       "sub_grade              0.0\n",
       "emp_title              0.0\n",
       "emp_length             0.0\n",
       "home_ownership         0.0\n",
       "verification_status    0.0\n",
       "issue_d                0.0\n",
       "pymnt_plan             0.0\n",
       "url                    0.0\n",
       "purpose                0.0\n",
       "title                  0.0\n",
       "zip_code               0.0\n",
       "addr_state             0.0\n",
       "earliest_cr_line       0.0\n",
       "initial_list_status    0.0\n",
       "last_pymnt_d           0.0\n",
       "last_credit_pull_d     0.0\n",
       "application_type       0.0\n",
       "dtype: float64"
      ]
     },
     "execution_count": 14,
     "metadata": {},
     "output_type": "execute_result"
    }
   ],
   "source": [
    "char_1.isnull().mean()"
   ]
  },
  {
   "cell_type": "code",
   "execution_count": 15,
   "metadata": {},
   "outputs": [],
   "source": [
    "# To avoid discrimation an enable fair lending, we are not using any title variables are risk identifier factors\n",
    "char_1=char_1.drop(['url','zip_code','emp_title','issue_d','addr_state','title','sub_grade','last_credit_pull_d','earliest_cr_line','last_pymnt_d'],axis=1)"
   ]
  },
  {
   "cell_type": "code",
   "execution_count": null,
   "metadata": {},
   "outputs": [],
   "source": [
    "# 10 Categorical Features droppping based on Fair Lending Considerations"
   ]
  },
  {
   "cell_type": "code",
   "execution_count": 31,
   "metadata": {},
   "outputs": [],
   "source": [
    "# Joining back the target  variable and exporting the pivot table for a BiVariate Analysis\n",
    "#categorical_variable_chk=pd.concat([Y,char_1],axis=1,join='inner')\n"
   ]
  },
  {
   "cell_type": "code",
   "execution_count": 24,
   "metadata": {},
   "outputs": [],
   "source": [
    "# Steps to regroup categorical features in order to achieve linear discrimination\n",
    "# These levels to group have been discovered through the pivot analysis\n",
    "char_1['purpose_1']=np.where(char_1['purpose'].isin(['other','medical','vacation','debt_consolidation','car','major_purchase','home_improvement','credit_card']),'others',char['purpose'])           \n",
    "char_1['verified_1']=np.where(char_1['verification_status'].isin(['Source Verified','Verified']),'Verified',char_1['verification_status'])\n",
    "char_1['home_own_1']=np.where(char_1['home_ownership'].isin(['OWN','MORTGAGE']),'OWN',\n",
    "                     np.where(char_1['home_ownership'].isin(['RENT']),'RENT','OTHER'))\n",
    "char_1['term_1']=np.where(char_1['term'].isin(['60 months']),'60','30')"
   ]
  },
  {
   "cell_type": "code",
   "execution_count": 25,
   "metadata": {},
   "outputs": [],
   "source": [
    "char_2=char_1.loc[:,['purpose_1','verified_1','home_own_1','term_1','grade','emp_length','pymnt_plan','application_type']]"
   ]
  },
  {
   "cell_type": "code",
   "execution_count": 26,
   "metadata": {},
   "outputs": [
    {
     "data": {
      "text/plain": [
       "(887379, 8)"
      ]
     },
     "execution_count": 26,
     "metadata": {},
     "output_type": "execute_result"
    }
   ],
   "source": [
    "char_2.shape"
   ]
  },
  {
   "cell_type": "code",
   "execution_count": 35,
   "metadata": {
    "scrolled": true
   },
   "outputs": [],
   "source": [
    "#pd.set_option('max_rows', None)\n",
    "#df_loan.groupby('title')['target'].mean()"
   ]
  },
  {
   "cell_type": "code",
   "execution_count": 16,
   "metadata": {},
   "outputs": [
    {
     "name": "stderr",
     "output_type": "stream",
     "text": [
      "C:\\Anaconda_Python\\lib\\site-packages\\sklearn\\preprocessing\\_discretization.py:202: UserWarning: Bins whose width are too small (i.e., <= 1e-8) in feature 7 are removed. Consider decreasing the number of bins.\n",
      "  'decreasing the number of bins.' % jj)\n",
      "C:\\Anaconda_Python\\lib\\site-packages\\sklearn\\preprocessing\\_discretization.py:202: UserWarning: Bins whose width are too small (i.e., <= 1e-8) in feature 8 are removed. Consider decreasing the number of bins.\n",
      "  'decreasing the number of bins.' % jj)\n",
      "C:\\Anaconda_Python\\lib\\site-packages\\sklearn\\preprocessing\\_discretization.py:202: UserWarning: Bins whose width are too small (i.e., <= 1e-8) in feature 10 are removed. Consider decreasing the number of bins.\n",
      "  'decreasing the number of bins.' % jj)\n",
      "C:\\Anaconda_Python\\lib\\site-packages\\sklearn\\preprocessing\\_discretization.py:202: UserWarning: Bins whose width are too small (i.e., <= 1e-8) in feature 14 are removed. Consider decreasing the number of bins.\n",
      "  'decreasing the number of bins.' % jj)\n",
      "C:\\Anaconda_Python\\lib\\site-packages\\sklearn\\preprocessing\\_discretization.py:202: UserWarning: Bins whose width are too small (i.e., <= 1e-8) in feature 15 are removed. Consider decreasing the number of bins.\n",
      "  'decreasing the number of bins.' % jj)\n",
      "C:\\Anaconda_Python\\lib\\site-packages\\sklearn\\preprocessing\\_discretization.py:202: UserWarning: Bins whose width are too small (i.e., <= 1e-8) in feature 20 are removed. Consider decreasing the number of bins.\n",
      "  'decreasing the number of bins.' % jj)\n",
      "C:\\Anaconda_Python\\lib\\site-packages\\sklearn\\preprocessing\\_discretization.py:202: UserWarning: Bins whose width are too small (i.e., <= 1e-8) in feature 21 are removed. Consider decreasing the number of bins.\n",
      "  'decreasing the number of bins.' % jj)\n",
      "C:\\Anaconda_Python\\lib\\site-packages\\sklearn\\preprocessing\\_discretization.py:202: UserWarning: Bins whose width are too small (i.e., <= 1e-8) in feature 22 are removed. Consider decreasing the number of bins.\n",
      "  'decreasing the number of bins.' % jj)\n",
      "C:\\Anaconda_Python\\lib\\site-packages\\sklearn\\preprocessing\\_discretization.py:202: UserWarning: Bins whose width are too small (i.e., <= 1e-8) in feature 24 are removed. Consider decreasing the number of bins.\n",
      "  'decreasing the number of bins.' % jj)\n",
      "C:\\Anaconda_Python\\lib\\site-packages\\sklearn\\preprocessing\\_discretization.py:168: UserWarning: Feature 25 is constant and will be replaced with 0.\n",
      "  \"replaced with 0.\" % jj)\n",
      "C:\\Anaconda_Python\\lib\\site-packages\\sklearn\\preprocessing\\_discretization.py:202: UserWarning: Bins whose width are too small (i.e., <= 1e-8) in feature 26 are removed. Consider decreasing the number of bins.\n",
      "  'decreasing the number of bins.' % jj)\n",
      "C:\\Anaconda_Python\\lib\\site-packages\\sklearn\\preprocessing\\_discretization.py:202: UserWarning: Bins whose width are too small (i.e., <= 1e-8) in feature 27 are removed. Consider decreasing the number of bins.\n",
      "  'decreasing the number of bins.' % jj)\n"
     ]
    },
    {
     "data": {
      "text/html": [
       "<div>\n",
       "<style scoped>\n",
       "    .dataframe tbody tr th:only-of-type {\n",
       "        vertical-align: middle;\n",
       "    }\n",
       "\n",
       "    .dataframe tbody tr th {\n",
       "        vertical-align: top;\n",
       "    }\n",
       "\n",
       "    .dataframe thead th {\n",
       "        text-align: right;\n",
       "    }\n",
       "</style>\n",
       "<table border=\"1\" class=\"dataframe\">\n",
       "  <thead>\n",
       "    <tr style=\"text-align: right;\">\n",
       "      <th></th>\n",
       "      <th>loan_amnt_Rank</th>\n",
       "      <th>funded_amnt_Rank</th>\n",
       "      <th>funded_amnt_inv_Rank</th>\n",
       "      <th>int_rate_Rank</th>\n",
       "      <th>installment_Rank</th>\n",
       "      <th>annual_inc_Rank</th>\n",
       "      <th>dti_Rank</th>\n",
       "      <th>delinq_2yrs_Rank</th>\n",
       "      <th>inq_last_6mths_Rank</th>\n",
       "      <th>open_acc_Rank</th>\n",
       "      <th>pub_rec_Rank</th>\n",
       "      <th>revol_bal_Rank</th>\n",
       "      <th>revol_util_Rank</th>\n",
       "      <th>total_acc_Rank</th>\n",
       "      <th>out_prncp_Rank</th>\n",
       "      <th>out_prncp_inv_Rank</th>\n",
       "      <th>total_pymnt_Rank</th>\n",
       "      <th>total_pymnt_inv_Rank</th>\n",
       "      <th>total_rec_prncp_Rank</th>\n",
       "      <th>total_rec_int_Rank</th>\n",
       "      <th>total_rec_late_fee_Rank</th>\n",
       "      <th>recoveries_Rank</th>\n",
       "      <th>collection_recovery_fee_Rank</th>\n",
       "      <th>last_pymnt_amnt_Rank</th>\n",
       "      <th>collections_12_mths_ex_med_Rank</th>\n",
       "      <th>policy_code_Rank</th>\n",
       "      <th>acc_now_delinq_Rank</th>\n",
       "      <th>tot_coll_amt_Rank</th>\n",
       "      <th>tot_cur_bal_Rank</th>\n",
       "      <th>total_rev_hi_lim_Rank</th>\n",
       "    </tr>\n",
       "  </thead>\n",
       "  <tbody>\n",
       "    <tr>\n",
       "      <th>0</th>\n",
       "      <td>1.0</td>\n",
       "      <td>1.0</td>\n",
       "      <td>0.0</td>\n",
       "      <td>2.0</td>\n",
       "      <td>0.0</td>\n",
       "      <td>0.0</td>\n",
       "      <td>8.0</td>\n",
       "      <td>0.0</td>\n",
       "      <td>1.0</td>\n",
       "      <td>0.0</td>\n",
       "      <td>0.0</td>\n",
       "      <td>5.0</td>\n",
       "      <td>8.0</td>\n",
       "      <td>0.0</td>\n",
       "      <td>0.0</td>\n",
       "      <td>0.0</td>\n",
       "      <td>5.0</td>\n",
       "      <td>5.0</td>\n",
       "      <td>6.0</td>\n",
       "      <td>4.0</td>\n",
       "      <td>0.0</td>\n",
       "      <td>0.0</td>\n",
       "      <td>0.0</td>\n",
       "      <td>1.0</td>\n",
       "      <td>0.0</td>\n",
       "      <td>0.0</td>\n",
       "      <td>0.0</td>\n",
       "      <td>2.0</td>\n",
       "      <td>6.0</td>\n",
       "      <td>6.0</td>\n",
       "    </tr>\n",
       "    <tr>\n",
       "      <th>1</th>\n",
       "      <td>0.0</td>\n",
       "      <td>0.0</td>\n",
       "      <td>0.0</td>\n",
       "      <td>6.0</td>\n",
       "      <td>0.0</td>\n",
       "      <td>0.0</td>\n",
       "      <td>0.0</td>\n",
       "      <td>0.0</td>\n",
       "      <td>2.0</td>\n",
       "      <td>0.0</td>\n",
       "      <td>0.0</td>\n",
       "      <td>0.0</td>\n",
       "      <td>0.0</td>\n",
       "      <td>0.0</td>\n",
       "      <td>0.0</td>\n",
       "      <td>0.0</td>\n",
       "      <td>1.0</td>\n",
       "      <td>1.0</td>\n",
       "      <td>1.0</td>\n",
       "      <td>2.0</td>\n",
       "      <td>0.0</td>\n",
       "      <td>0.0</td>\n",
       "      <td>0.0</td>\n",
       "      <td>0.0</td>\n",
       "      <td>0.0</td>\n",
       "      <td>0.0</td>\n",
       "      <td>0.0</td>\n",
       "      <td>2.0</td>\n",
       "      <td>6.0</td>\n",
       "      <td>6.0</td>\n",
       "    </tr>\n",
       "    <tr>\n",
       "      <th>2</th>\n",
       "      <td>0.0</td>\n",
       "      <td>0.0</td>\n",
       "      <td>0.0</td>\n",
       "      <td>7.0</td>\n",
       "      <td>0.0</td>\n",
       "      <td>0.0</td>\n",
       "      <td>1.0</td>\n",
       "      <td>0.0</td>\n",
       "      <td>2.0</td>\n",
       "      <td>0.0</td>\n",
       "      <td>0.0</td>\n",
       "      <td>0.0</td>\n",
       "      <td>9.0</td>\n",
       "      <td>0.0</td>\n",
       "      <td>0.0</td>\n",
       "      <td>0.0</td>\n",
       "      <td>3.0</td>\n",
       "      <td>3.0</td>\n",
       "      <td>4.0</td>\n",
       "      <td>3.0</td>\n",
       "      <td>0.0</td>\n",
       "      <td>0.0</td>\n",
       "      <td>0.0</td>\n",
       "      <td>6.0</td>\n",
       "      <td>0.0</td>\n",
       "      <td>0.0</td>\n",
       "      <td>0.0</td>\n",
       "      <td>2.0</td>\n",
       "      <td>6.0</td>\n",
       "      <td>6.0</td>\n",
       "    </tr>\n",
       "    <tr>\n",
       "      <th>3</th>\n",
       "      <td>3.0</td>\n",
       "      <td>3.0</td>\n",
       "      <td>3.0</td>\n",
       "      <td>5.0</td>\n",
       "      <td>4.0</td>\n",
       "      <td>2.0</td>\n",
       "      <td>6.0</td>\n",
       "      <td>0.0</td>\n",
       "      <td>1.0</td>\n",
       "      <td>4.0</td>\n",
       "      <td>0.0</td>\n",
       "      <td>2.0</td>\n",
       "      <td>0.0</td>\n",
       "      <td>8.0</td>\n",
       "      <td>0.0</td>\n",
       "      <td>0.0</td>\n",
       "      <td>7.0</td>\n",
       "      <td>7.0</td>\n",
       "      <td>8.0</td>\n",
       "      <td>7.0</td>\n",
       "      <td>0.0</td>\n",
       "      <td>0.0</td>\n",
       "      <td>0.0</td>\n",
       "      <td>3.0</td>\n",
       "      <td>0.0</td>\n",
       "      <td>0.0</td>\n",
       "      <td>0.0</td>\n",
       "      <td>2.0</td>\n",
       "      <td>6.0</td>\n",
       "      <td>6.0</td>\n",
       "    </tr>\n",
       "    <tr>\n",
       "      <th>4</th>\n",
       "      <td>0.0</td>\n",
       "      <td>0.0</td>\n",
       "      <td>0.0</td>\n",
       "      <td>4.0</td>\n",
       "      <td>0.0</td>\n",
       "      <td>6.0</td>\n",
       "      <td>5.0</td>\n",
       "      <td>0.0</td>\n",
       "      <td>0.0</td>\n",
       "      <td>8.0</td>\n",
       "      <td>0.0</td>\n",
       "      <td>8.0</td>\n",
       "      <td>4.0</td>\n",
       "      <td>8.0</td>\n",
       "      <td>0.0</td>\n",
       "      <td>0.0</td>\n",
       "      <td>3.0</td>\n",
       "      <td>3.0</td>\n",
       "      <td>3.0</td>\n",
       "      <td>4.0</td>\n",
       "      <td>0.0</td>\n",
       "      <td>0.0</td>\n",
       "      <td>0.0</td>\n",
       "      <td>0.0</td>\n",
       "      <td>0.0</td>\n",
       "      <td>0.0</td>\n",
       "      <td>0.0</td>\n",
       "      <td>2.0</td>\n",
       "      <td>6.0</td>\n",
       "      <td>6.0</td>\n",
       "    </tr>\n",
       "  </tbody>\n",
       "</table>\n",
       "</div>"
      ],
      "text/plain": [
       "   loan_amnt_Rank  funded_amnt_Rank  funded_amnt_inv_Rank  int_rate_Rank  \\\n",
       "0             1.0               1.0                   0.0            2.0   \n",
       "1             0.0               0.0                   0.0            6.0   \n",
       "2             0.0               0.0                   0.0            7.0   \n",
       "3             3.0               3.0                   3.0            5.0   \n",
       "4             0.0               0.0                   0.0            4.0   \n",
       "\n",
       "   installment_Rank  annual_inc_Rank  dti_Rank  delinq_2yrs_Rank  \\\n",
       "0               0.0              0.0       8.0               0.0   \n",
       "1               0.0              0.0       0.0               0.0   \n",
       "2               0.0              0.0       1.0               0.0   \n",
       "3               4.0              2.0       6.0               0.0   \n",
       "4               0.0              6.0       5.0               0.0   \n",
       "\n",
       "   inq_last_6mths_Rank  open_acc_Rank  pub_rec_Rank  revol_bal_Rank  \\\n",
       "0                  1.0            0.0           0.0             5.0   \n",
       "1                  2.0            0.0           0.0             0.0   \n",
       "2                  2.0            0.0           0.0             0.0   \n",
       "3                  1.0            4.0           0.0             2.0   \n",
       "4                  0.0            8.0           0.0             8.0   \n",
       "\n",
       "   revol_util_Rank  total_acc_Rank  out_prncp_Rank  out_prncp_inv_Rank  \\\n",
       "0              8.0             0.0             0.0                 0.0   \n",
       "1              0.0             0.0             0.0                 0.0   \n",
       "2              9.0             0.0             0.0                 0.0   \n",
       "3              0.0             8.0             0.0                 0.0   \n",
       "4              4.0             8.0             0.0                 0.0   \n",
       "\n",
       "   total_pymnt_Rank  total_pymnt_inv_Rank  total_rec_prncp_Rank  \\\n",
       "0               5.0                   5.0                   6.0   \n",
       "1               1.0                   1.0                   1.0   \n",
       "2               3.0                   3.0                   4.0   \n",
       "3               7.0                   7.0                   8.0   \n",
       "4               3.0                   3.0                   3.0   \n",
       "\n",
       "   total_rec_int_Rank  total_rec_late_fee_Rank  recoveries_Rank  \\\n",
       "0                 4.0                      0.0              0.0   \n",
       "1                 2.0                      0.0              0.0   \n",
       "2                 3.0                      0.0              0.0   \n",
       "3                 7.0                      0.0              0.0   \n",
       "4                 4.0                      0.0              0.0   \n",
       "\n",
       "   collection_recovery_fee_Rank  last_pymnt_amnt_Rank  \\\n",
       "0                           0.0                   1.0   \n",
       "1                           0.0                   0.0   \n",
       "2                           0.0                   6.0   \n",
       "3                           0.0                   3.0   \n",
       "4                           0.0                   0.0   \n",
       "\n",
       "   collections_12_mths_ex_med_Rank  policy_code_Rank  acc_now_delinq_Rank  \\\n",
       "0                              0.0               0.0                  0.0   \n",
       "1                              0.0               0.0                  0.0   \n",
       "2                              0.0               0.0                  0.0   \n",
       "3                              0.0               0.0                  0.0   \n",
       "4                              0.0               0.0                  0.0   \n",
       "\n",
       "   tot_coll_amt_Rank  tot_cur_bal_Rank  total_rev_hi_lim_Rank  \n",
       "0                2.0               6.0                    6.0  \n",
       "1                2.0               6.0                    6.0  \n",
       "2                2.0               6.0                    6.0  \n",
       "3                2.0               6.0                    6.0  \n",
       "4                2.0               6.0                    6.0  "
      ]
     },
     "execution_count": 16,
     "metadata": {},
     "output_type": "execute_result"
    }
   ],
   "source": [
    "from sklearn.preprocessing import KBinsDiscretizer\n",
    "discrete=KBinsDiscretizer(n_bins=10,encode='ordinal', strategy='quantile')\n",
    "num_binned=pd.DataFrame(discrete.fit_transform(num_1),index=num_1.index, columns=num_1.columns).add_suffix('_Rank')\n",
    "num_binned.head()"
   ]
  },
  {
   "cell_type": "code",
   "execution_count": 17,
   "metadata": {},
   "outputs": [
    {
     "name": "stderr",
     "output_type": "stream",
     "text": [
      "C:\\Anaconda_Python\\lib\\site-packages\\scipy\\stats\\stats.py:1713: FutureWarning: Using a non-tuple sequence for multidimensional indexing is deprecated; use `arr[tuple(seq)]` instead of `arr[seq]`. In the future this will be interpreted as an array index, `arr[np.array(seq)]`, which will result either in an error or a different result.\n",
      "  return np.add.reduce(sorted[indexer] * weights, axis=axis) / sumval\n"
     ]
    },
    {
     "ename": "KeyboardInterrupt",
     "evalue": "",
     "output_type": "error",
     "traceback": [
      "\u001b[1;31m---------------------------------------------------------------------------\u001b[0m",
      "\u001b[1;31mKeyboardInterrupt\u001b[0m                         Traceback (most recent call last)",
      "\u001b[1;32m<ipython-input-17-8ef0cdef6c82>\u001b[0m in \u001b[0;36m<module>\u001b[1;34m()\u001b[0m\n\u001b[0;32m     14\u001b[0m \u001b[1;32mfor\u001b[0m \u001b[0mcol\u001b[0m \u001b[1;32min\u001b[0m \u001b[1;33m(\u001b[0m\u001b[0mX_bin_combined\u001b[0m\u001b[1;33m.\u001b[0m\u001b[0mcolumns\u001b[0m\u001b[1;33m)\u001b[0m\u001b[1;33m:\u001b[0m\u001b[1;33m\u001b[0m\u001b[0m\n\u001b[0;32m     15\u001b[0m     \u001b[0mplt\u001b[0m\u001b[1;33m.\u001b[0m\u001b[0mfigure\u001b[0m\u001b[1;33m(\u001b[0m\u001b[1;33m)\u001b[0m\u001b[1;33m\u001b[0m\u001b[0m\n\u001b[1;32m---> 16\u001b[1;33m     \u001b[0msns\u001b[0m\u001b[1;33m.\u001b[0m\u001b[0mbarplot\u001b[0m\u001b[1;33m(\u001b[0m\u001b[0mx\u001b[0m\u001b[1;33m=\u001b[0m\u001b[0mcol\u001b[0m\u001b[1;33m,\u001b[0m \u001b[0my\u001b[0m\u001b[1;33m=\u001b[0m\u001b[1;34m\"target\"\u001b[0m\u001b[1;33m,\u001b[0m\u001b[0mdata\u001b[0m\u001b[1;33m=\u001b[0m\u001b[0mX_bin_combined\u001b[0m\u001b[1;33m,\u001b[0m \u001b[0mestimator\u001b[0m\u001b[1;33m=\u001b[0m\u001b[0mmean\u001b[0m \u001b[1;33m)\u001b[0m\u001b[1;33m\u001b[0m\u001b[0m\n\u001b[0m\u001b[0;32m     17\u001b[0m \u001b[0mplt\u001b[0m\u001b[1;33m.\u001b[0m\u001b[0mshow\u001b[0m\u001b[1;33m(\u001b[0m\u001b[1;33m)\u001b[0m\u001b[1;33m\u001b[0m\u001b[0m\n",
      "\u001b[1;32mC:\\Anaconda_Python\\lib\\site-packages\\seaborn\\categorical.py\u001b[0m in \u001b[0;36mbarplot\u001b[1;34m(x, y, hue, data, order, hue_order, estimator, ci, n_boot, units, orient, color, palette, saturation, errcolor, errwidth, capsize, dodge, ax, **kwargs)\u001b[0m\n\u001b[0;32m   3147\u001b[0m                           \u001b[0mestimator\u001b[0m\u001b[1;33m,\u001b[0m \u001b[0mci\u001b[0m\u001b[1;33m,\u001b[0m \u001b[0mn_boot\u001b[0m\u001b[1;33m,\u001b[0m \u001b[0munits\u001b[0m\u001b[1;33m,\u001b[0m\u001b[1;33m\u001b[0m\u001b[0m\n\u001b[0;32m   3148\u001b[0m                           \u001b[0morient\u001b[0m\u001b[1;33m,\u001b[0m \u001b[0mcolor\u001b[0m\u001b[1;33m,\u001b[0m \u001b[0mpalette\u001b[0m\u001b[1;33m,\u001b[0m \u001b[0msaturation\u001b[0m\u001b[1;33m,\u001b[0m\u001b[1;33m\u001b[0m\u001b[0m\n\u001b[1;32m-> 3149\u001b[1;33m                           errcolor, errwidth, capsize, dodge)\n\u001b[0m\u001b[0;32m   3150\u001b[0m \u001b[1;33m\u001b[0m\u001b[0m\n\u001b[0;32m   3151\u001b[0m     \u001b[1;32mif\u001b[0m \u001b[0max\u001b[0m \u001b[1;32mis\u001b[0m \u001b[1;32mNone\u001b[0m\u001b[1;33m:\u001b[0m\u001b[1;33m\u001b[0m\u001b[0m\n",
      "\u001b[1;32mC:\\Anaconda_Python\\lib\\site-packages\\seaborn\\categorical.py\u001b[0m in \u001b[0;36m__init__\u001b[1;34m(self, x, y, hue, data, order, hue_order, estimator, ci, n_boot, units, orient, color, palette, saturation, errcolor, errwidth, capsize, dodge)\u001b[0m\n\u001b[0;32m   1607\u001b[0m                                  order, hue_order, units)\n\u001b[0;32m   1608\u001b[0m         \u001b[0mself\u001b[0m\u001b[1;33m.\u001b[0m\u001b[0mestablish_colors\u001b[0m\u001b[1;33m(\u001b[0m\u001b[0mcolor\u001b[0m\u001b[1;33m,\u001b[0m \u001b[0mpalette\u001b[0m\u001b[1;33m,\u001b[0m \u001b[0msaturation\u001b[0m\u001b[1;33m)\u001b[0m\u001b[1;33m\u001b[0m\u001b[0m\n\u001b[1;32m-> 1609\u001b[1;33m         \u001b[0mself\u001b[0m\u001b[1;33m.\u001b[0m\u001b[0mestimate_statistic\u001b[0m\u001b[1;33m(\u001b[0m\u001b[0mestimator\u001b[0m\u001b[1;33m,\u001b[0m \u001b[0mci\u001b[0m\u001b[1;33m,\u001b[0m \u001b[0mn_boot\u001b[0m\u001b[1;33m)\u001b[0m\u001b[1;33m\u001b[0m\u001b[0m\n\u001b[0m\u001b[0;32m   1610\u001b[0m \u001b[1;33m\u001b[0m\u001b[0m\n\u001b[0;32m   1611\u001b[0m         \u001b[0mself\u001b[0m\u001b[1;33m.\u001b[0m\u001b[0mdodge\u001b[0m \u001b[1;33m=\u001b[0m \u001b[0mdodge\u001b[0m\u001b[1;33m\u001b[0m\u001b[0m\n",
      "\u001b[1;32mC:\\Anaconda_Python\\lib\\site-packages\\seaborn\\categorical.py\u001b[0m in \u001b[0;36mestimate_statistic\u001b[1;34m(self, estimator, ci, n_boot)\u001b[0m\n\u001b[0;32m   1510\u001b[0m                         boots = bootstrap(stat_data, func=estimator,\n\u001b[0;32m   1511\u001b[0m                                           \u001b[0mn_boot\u001b[0m\u001b[1;33m=\u001b[0m\u001b[0mn_boot\u001b[0m\u001b[1;33m,\u001b[0m\u001b[1;33m\u001b[0m\u001b[0m\n\u001b[1;32m-> 1512\u001b[1;33m                                           units=unit_data)\n\u001b[0m\u001b[0;32m   1513\u001b[0m                         \u001b[0mconfint\u001b[0m\u001b[1;33m.\u001b[0m\u001b[0mappend\u001b[0m\u001b[1;33m(\u001b[0m\u001b[0mutils\u001b[0m\u001b[1;33m.\u001b[0m\u001b[0mci\u001b[0m\u001b[1;33m(\u001b[0m\u001b[0mboots\u001b[0m\u001b[1;33m,\u001b[0m \u001b[0mci\u001b[0m\u001b[1;33m)\u001b[0m\u001b[1;33m)\u001b[0m\u001b[1;33m\u001b[0m\u001b[0m\n\u001b[0;32m   1514\u001b[0m \u001b[1;33m\u001b[0m\u001b[0m\n",
      "\u001b[1;32mC:\\Anaconda_Python\\lib\\site-packages\\seaborn\\algorithms.py\u001b[0m in \u001b[0;36mbootstrap\u001b[1;34m(*args, **kwargs)\u001b[0m\n\u001b[0;32m     84\u001b[0m     \u001b[0mboot_dist\u001b[0m \u001b[1;33m=\u001b[0m \u001b[1;33m[\u001b[0m\u001b[1;33m]\u001b[0m\u001b[1;33m\u001b[0m\u001b[0m\n\u001b[0;32m     85\u001b[0m     \u001b[1;32mfor\u001b[0m \u001b[0mi\u001b[0m \u001b[1;32min\u001b[0m \u001b[0mrange\u001b[0m\u001b[1;33m(\u001b[0m\u001b[0mint\u001b[0m\u001b[1;33m(\u001b[0m\u001b[0mn_boot\u001b[0m\u001b[1;33m)\u001b[0m\u001b[1;33m)\u001b[0m\u001b[1;33m:\u001b[0m\u001b[1;33m\u001b[0m\u001b[0m\n\u001b[1;32m---> 86\u001b[1;33m         \u001b[0mresampler\u001b[0m \u001b[1;33m=\u001b[0m \u001b[0mrs\u001b[0m\u001b[1;33m.\u001b[0m\u001b[0mrandint\u001b[0m\u001b[1;33m(\u001b[0m\u001b[1;36m0\u001b[0m\u001b[1;33m,\u001b[0m \u001b[0mn\u001b[0m\u001b[1;33m,\u001b[0m \u001b[0mn\u001b[0m\u001b[1;33m)\u001b[0m\u001b[1;33m\u001b[0m\u001b[0m\n\u001b[0m\u001b[0;32m     87\u001b[0m         \u001b[0msample\u001b[0m \u001b[1;33m=\u001b[0m \u001b[1;33m[\u001b[0m\u001b[0ma\u001b[0m\u001b[1;33m.\u001b[0m\u001b[0mtake\u001b[0m\u001b[1;33m(\u001b[0m\u001b[0mresampler\u001b[0m\u001b[1;33m,\u001b[0m \u001b[0maxis\u001b[0m\u001b[1;33m=\u001b[0m\u001b[1;36m0\u001b[0m\u001b[1;33m)\u001b[0m \u001b[1;32mfor\u001b[0m \u001b[0ma\u001b[0m \u001b[1;32min\u001b[0m \u001b[0margs\u001b[0m\u001b[1;33m]\u001b[0m\u001b[1;33m\u001b[0m\u001b[0m\n\u001b[0;32m     88\u001b[0m         \u001b[0mboot_dist\u001b[0m\u001b[1;33m.\u001b[0m\u001b[0mappend\u001b[0m\u001b[1;33m(\u001b[0m\u001b[0mf\u001b[0m\u001b[1;33m(\u001b[0m\u001b[1;33m*\u001b[0m\u001b[0msample\u001b[0m\u001b[1;33m,\u001b[0m \u001b[1;33m**\u001b[0m\u001b[0mfunc_kwargs\u001b[0m\u001b[1;33m)\u001b[0m\u001b[1;33m)\u001b[0m\u001b[1;33m\u001b[0m\u001b[0m\n",
      "\u001b[1;31mKeyboardInterrupt\u001b[0m: "
     ]
    },
    {
     "data": {
      "image/png": "[encoded data removed]",
      "text/plain": [
       "<Figure size 432x288 with 1 Axes>"
      ]
     },
     "metadata": {},
     "output_type": "display_data"
    },
    {
     "data": {
      "image/png": "[encoded data removed]",
      "text/plain": [
       "<Figure size 432x288 with 1 Axes>"
      ]
     },
     "metadata": {},
     "output_type": "display_data"
    },
    {
     "data": {
      "image/png": "[encoded data removed]",
      "text/plain": [
       "<Figure size 432x288 with 1 Axes>"
      ]
     },
     "metadata": {},
     "output_type": "display_data"
    },
    {
     "data": {
      "image/png": "[encoded data removed]",
      "text/plain": [
       "<Figure size 432x288 with 1 Axes>"
      ]
     },
     "metadata": {},
     "output_type": "display_data"
    },
    {
     "data": {
      "image/png": "[encoded data removed]",
      "text/plain": [
       "<Figure size 432x288 with 1 Axes>"
      ]
     },
     "metadata": {},
     "output_type": "display_data"
    },
    {
     "data": {
      "image/png": "[encoded data removed]",
      "text/plain": [
       "<Figure size 432x288 with 1 Axes>"
      ]
     },
     "metadata": {},
     "output_type": "display_data"
    },
    {
     "data": {
      "image/png": "[encoded data removed]",
      "text/plain": [
       "<Figure size 432x288 with 1 Axes>"
      ]
     },
     "metadata": {},
     "output_type": "display_data"
    },
    {
     "data": {
      "image/png": "[encoded data removed]",
      "text/plain": [
       "<Figure size 432x288 with 1 Axes>"
      ]
     },
     "metadata": {},
     "output_type": "display_data"
    },
    {
     "data": {
      "image/png": "[encoded data removed]",
      "text/plain": [
       "<Figure size 432x288 with 1 Axes>"
      ]
     },
     "metadata": {},
     "output_type": "display_data"
    },
    {
     "data": {
      "image/png": "[encoded data removed]",
      "text/plain": [
       "<Figure size 432x288 with 1 Axes>"
      ]
     },
     "metadata": {},
     "output_type": "display_data"
    },
    {
     "data": {
      "image/png": "[encoded data removed]",
      "text/plain": [
       "<Figure size 432x288 with 1 Axes>"
      ]
     },
     "metadata": {},
     "output_type": "display_data"
    },
    {
     "data": {
      "image/png": "[encoded data removed]",
      "text/plain": [
       "<Figure size 432x288 with 1 Axes>"
      ]
     },
     "metadata": {},
     "output_type": "display_data"
    },
    {
     "data": {
      "image/png": "[encoded data removed]",
      "text/plain": [
       "<Figure size 432x288 with 1 Axes>"
      ]
     },
     "metadata": {},
     "output_type": "display_data"
    },
    {
     "data": {
      "image/png": "[encoded data removed]",
      "text/plain": [
       "<Figure size 432x288 with 1 Axes>"
      ]
     },
     "metadata": {},
     "output_type": "display_data"
    },
    {
     "data": {
      "image/png": "[encoded data removed]",
      "text/plain": [
       "<Figure size 432x288 with 1 Axes>"
      ]
     },
     "metadata": {},
     "output_type": "display_data"
    },
    {
     "data": {
      "image/png": "[encoded data removed]",
      "text/plain": [
       "<Figure size 432x288 with 1 Axes>"
      ]
     },
     "metadata": {},
     "output_type": "display_data"
    },
    {
     "data": {
      "image/png": "[encoded data removed]",
      "text/plain": [
       "<Figure size 432x288 with 1 Axes>"
      ]
     },
     "metadata": {},
     "output_type": "display_data"
    },
    {
     "data": {
      "image/png": "[encoded data removed]",
      "text/plain": [
       "<Figure size 432x288 with 1 Axes>"
      ]
     },
     "metadata": {},
     "output_type": "display_data"
    },
    {
     "data": {
      "image/png": "[encoded data removed]",
      "text/plain": [
       "<Figure size 432x288 with 1 Axes>"
      ]
     },
     "metadata": {},
     "output_type": "display_data"
    },
    {
     "data": {
      "text/plain": [
       "<Figure size 432x288 with 0 Axes>"
      ]
     },
     "metadata": {},
     "output_type": "display_data"
    }
   ],
   "source": [
    "#Check if the features show a slope at all\n",
    "#If they do, then do you see some deciles below the population average and some higher than population average?\n",
    "#If that is the case then the slope will be strong\n",
    "#Conclusion: A strong slope is indicative of the features' ability to discriminate the event from non event\n",
    "#            making it a good predictor\n",
    "\n",
    "#percentage_income_goesinto_intallments=Insallment/annual_inc (Derived Variables/Feature Engineering)\n",
    "\n",
    "X_bin_combined=pd.concat([Y,num_binned],axis=1,join='inner')\n",
    "\n",
    "import matplotlib.pyplot as plt\n",
    "import seaborn as sns\n",
    "from numpy import mean\n",
    "for col in (X_bin_combined.columns):\n",
    "    plt.figure()\n",
    "    sns.barplot(x=col, y=\"target\",data=X_bin_combined, estimator=mean )\n",
    "plt.show()"
   ]
  },
  {
   "cell_type": "code",
   "execution_count": null,
   "metadata": {},
   "outputs": [],
   "source": [
    "# Select K Best for Numerical Features\n",
    "from sklearn.feature_selection import SelectKBest, chi2\n",
    "selector = SelectKBest(chi2, k=15)\n",
    "X_new = selector.fit_transform(num_1, Y)\n",
    "# Get columns to keep and create new dataframe with those only\n",
    "cols = selector.get_support(indices=True)\n",
    "select_features_df_num = num_1.iloc[:,cols]"
   ]
  },
  {
   "cell_type": "code",
   "execution_count": 33,
   "metadata": {
    "scrolled": true
   },
   "outputs": [
    {
     "data": {
      "text/html": [
       "<div>\n",
       "<style scoped>\n",
       "    .dataframe tbody tr th:only-of-type {\n",
       "        vertical-align: middle;\n",
       "    }\n",
       "\n",
       "    .dataframe tbody tr th {\n",
       "        vertical-align: top;\n",
       "    }\n",
       "\n",
       "    .dataframe thead th {\n",
       "        text-align: right;\n",
       "    }\n",
       "</style>\n",
       "<table border=\"1\" class=\"dataframe\">\n",
       "  <thead>\n",
       "    <tr style=\"text-align: right;\">\n",
       "      <th></th>\n",
       "      <th>annual_inc</th>\n",
       "      <th>revol_bal</th>\n",
       "      <th>out_prncp</th>\n",
       "      <th>out_prncp_inv</th>\n",
       "      <th>total_pymnt</th>\n",
       "      <th>total_pymnt_inv</th>\n",
       "      <th>total_rec_prncp</th>\n",
       "      <th>recoveries</th>\n",
       "      <th>collection_recovery_fee</th>\n",
       "      <th>last_pymnt_amnt</th>\n",
       "      <th>tot_cur_bal</th>\n",
       "      <th>total_rev_hi_lim</th>\n",
       "    </tr>\n",
       "  </thead>\n",
       "  <tbody>\n",
       "    <tr>\n",
       "      <th>0</th>\n",
       "      <td>24000.0</td>\n",
       "      <td>13648.0</td>\n",
       "      <td>0.0</td>\n",
       "      <td>0.0</td>\n",
       "      <td>5861.071414</td>\n",
       "      <td>5831.78</td>\n",
       "      <td>5000.0</td>\n",
       "      <td>0.0</td>\n",
       "      <td>0.0</td>\n",
       "      <td>171.62</td>\n",
       "      <td>139458.189336</td>\n",
       "      <td>32068.620045</td>\n",
       "    </tr>\n",
       "  </tbody>\n",
       "</table>\n",
       "</div>"
      ],
      "text/plain": [
       "   annual_inc  revol_bal  out_prncp  out_prncp_inv  total_pymnt  \\\n",
       "0     24000.0    13648.0        0.0            0.0  5861.071414   \n",
       "\n",
       "   total_pymnt_inv  total_rec_prncp  recoveries  collection_recovery_fee  \\\n",
       "0          5831.78           5000.0         0.0                      0.0   \n",
       "\n",
       "   last_pymnt_amnt    tot_cur_bal  total_rev_hi_lim  \n",
       "0           171.62  139458.189336      32068.620045  "
      ]
     },
     "execution_count": 33,
     "metadata": {},
     "output_type": "execute_result"
    }
   ],
   "source": [
    "select_features_df_num.loc[:0]"
   ]
  },
  {
   "cell_type": "code",
   "execution_count": 104,
   "metadata": {},
   "outputs": [
    {
     "data": {
      "text/plain": [
       "annual_inc                 float64\n",
       "revol_bal                  float64\n",
       "out_prncp                  float64\n",
       "out_prncp_inv              float64\n",
       "total_pymnt                float64\n",
       "total_pymnt_inv            float64\n",
       "total_rec_prncp            float64\n",
       "recoveries                 float64\n",
       "collection_recovery_fee    float64\n",
       "last_pymnt_amnt            float64\n",
       "tot_cur_bal                float64\n",
       "total_rev_hi_lim           float64\n",
       "dtype: object"
      ]
     },
     "execution_count": 104,
     "metadata": {},
     "output_type": "execute_result"
    }
   ],
   "source": [
    "select_features_df_num.dtypes"
   ]
  },
  {
   "cell_type": "code",
   "execution_count": null,
   "metadata": {},
   "outputs": [],
   "source": [
    "import matplotlib.pyplot as plt\n",
    "import seaborn as sns\n",
    "X_char_merged=pd.concat([Y,char_2],axis=1,join='inner')\n",
    "\n",
    "from numpy import mean\n",
    "for col in (char_2.columns):\n",
    "    plt.figure()\n",
    "    sns.barplot(x=col, y=\"target\",data=X_char_merged, estimator=mean )\n",
    "plt.show()"
   ]
  },
  {
   "cell_type": "code",
   "execution_count": 18,
   "metadata": {},
   "outputs": [],
   "source": [
    "# Steps to regroup categorical features in order to achieve linear discrimination\n",
    "# These levels to group have been discovered through the pivot analysis\n",
    "char_1['purpose_1']=np.where(char_1['purpose'].isin(['other','medical','vacation','debt_consolidation','car','major_purchase','home_improvement','credit_card']),'others',char['purpose'])           \n",
    "char_1['verified_1']=np.where(char_1['verification_status'].isin(['Source Verified','Verified']),'Verified',char_1['verification_status'])\n",
    "char_1['home_own_1']=np.where(char_1['home_ownership'].isin(['OWN','MORTGAGE']),'OWN',\n",
    "                     np.where(char_1['home_ownership'].isin(['RENT']),'RENT','OTHER'))\n",
    "char_1['term_1']=np.where(char_1['term'].isin(['60 months']),'60','30')"
   ]
  },
  {
   "cell_type": "code",
   "execution_count": 19,
   "metadata": {},
   "outputs": [],
   "source": [
    "char_2=char_1.loc[:,['purpose_1','verified_1','home_own_1','term_1','grade','emp_length','pymnt_plan','application_type']]"
   ]
  },
  {
   "cell_type": "code",
   "execution_count": 20,
   "metadata": {},
   "outputs": [],
   "source": [
    "# Create dummy features with n-1 levels\n",
    "X_char_dum = pd.get_dummies(char_2, drop_first = True)"
   ]
  },
  {
   "cell_type": "code",
   "execution_count": 21,
   "metadata": {},
   "outputs": [],
   "source": [
    "# Select K Best for Categorical Features\n",
    "from sklearn.feature_selection import SelectKBest, chi2\n",
    "selector = SelectKBest(chi2, k=12)\n",
    "X_new_1 = selector.fit_transform(X_char_dum, Y)\n",
    "# Get columns to keep and create new dataframe with those only\n",
    "cols = selector.get_support(indices=True)\n",
    "select_features_df_char = X_char_dum.iloc[:,cols]"
   ]
  },
  {
   "cell_type": "code",
   "execution_count": 22,
   "metadata": {},
   "outputs": [
    {
     "data": {
      "text/html": [
       "<div>\n",
       "<style scoped>\n",
       "    .dataframe tbody tr th:only-of-type {\n",
       "        vertical-align: middle;\n",
       "    }\n",
       "\n",
       "    .dataframe tbody tr th {\n",
       "        vertical-align: top;\n",
       "    }\n",
       "\n",
       "    .dataframe thead th {\n",
       "        text-align: right;\n",
       "    }\n",
       "</style>\n",
       "<table border=\"1\" class=\"dataframe\">\n",
       "  <thead>\n",
       "    <tr style=\"text-align: right;\">\n",
       "      <th></th>\n",
       "      <th>purpose_1_moving</th>\n",
       "      <th>purpose_1_small_business</th>\n",
       "      <th>purpose_1_wedding</th>\n",
       "      <th>home_own_1_OWN</th>\n",
       "      <th>home_own_1_RENT</th>\n",
       "      <th>grade_B</th>\n",
       "      <th>grade_D</th>\n",
       "      <th>grade_E</th>\n",
       "      <th>grade_F</th>\n",
       "      <th>grade_G</th>\n",
       "      <th>emp_length_10+ years</th>\n",
       "      <th>emp_length_6 years</th>\n",
       "    </tr>\n",
       "  </thead>\n",
       "  <tbody>\n",
       "    <tr>\n",
       "      <th>0</th>\n",
       "      <td>0</td>\n",
       "      <td>0</td>\n",
       "      <td>0</td>\n",
       "      <td>0</td>\n",
       "      <td>1</td>\n",
       "      <td>1</td>\n",
       "      <td>0</td>\n",
       "      <td>0</td>\n",
       "      <td>0</td>\n",
       "      <td>0</td>\n",
       "      <td>1</td>\n",
       "      <td>0</td>\n",
       "    </tr>\n",
       "  </tbody>\n",
       "</table>\n",
       "</div>"
      ],
      "text/plain": [
       "   purpose_1_moving  purpose_1_small_business  purpose_1_wedding  \\\n",
       "0                 0                         0                  0   \n",
       "\n",
       "   home_own_1_OWN  home_own_1_RENT  grade_B  grade_D  grade_E  grade_F  \\\n",
       "0               0                1        1        0        0        0   \n",
       "\n",
       "   grade_G  emp_length_10+ years  emp_length_6 years  \n",
       "0        0                     1                   0  "
      ]
     },
     "execution_count": 22,
     "metadata": {},
     "output_type": "execute_result"
    }
   ],
   "source": [
    "select_features_df_char.loc[:0]"
   ]
  },
  {
   "cell_type": "code",
   "execution_count": 23,
   "metadata": {
    "scrolled": true
   },
   "outputs": [
    {
     "data": {
      "text/plain": [
       "purpose_1_moving            uint8\n",
       "purpose_1_small_business    uint8\n",
       "purpose_1_wedding           uint8\n",
       "home_own_1_OWN              uint8\n",
       "home_own_1_RENT             uint8\n",
       "grade_B                     uint8\n",
       "grade_D                     uint8\n",
       "grade_E                     uint8\n",
       "grade_F                     uint8\n",
       "grade_G                     uint8\n",
       "emp_length_10+ years        uint8\n",
       "emp_length_6 years          uint8\n",
       "dtype: object"
      ]
     },
     "execution_count": 23,
     "metadata": {},
     "output_type": "execute_result"
    }
   ],
   "source": [
    "select_features_df_char.dtypes"
   ]
  },
  {
   "cell_type": "code",
   "execution_count": 44,
   "metadata": {
    "scrolled": true
   },
   "outputs": [],
   "source": [
    "num_additional=num_1.loc[:,['int_rate','inq_last_6mths']]"
   ]
  },
  {
   "cell_type": "code",
   "execution_count": 45,
   "metadata": {},
   "outputs": [
    {
     "data": {
      "text/html": [
       "<div>\n",
       "<style scoped>\n",
       "    .dataframe tbody tr th:only-of-type {\n",
       "        vertical-align: middle;\n",
       "    }\n",
       "\n",
       "    .dataframe tbody tr th {\n",
       "        vertical-align: top;\n",
       "    }\n",
       "\n",
       "    .dataframe thead th {\n",
       "        text-align: right;\n",
       "    }\n",
       "</style>\n",
       "<table border=\"1\" class=\"dataframe\">\n",
       "  <thead>\n",
       "    <tr style=\"text-align: right;\">\n",
       "      <th></th>\n",
       "      <th>int_rate</th>\n",
       "      <th>inq_last_6mths</th>\n",
       "    </tr>\n",
       "  </thead>\n",
       "  <tbody>\n",
       "    <tr>\n",
       "      <th>0</th>\n",
       "      <td>10.65</td>\n",
       "      <td>1.0</td>\n",
       "    </tr>\n",
       "    <tr>\n",
       "      <th>1</th>\n",
       "      <td>15.27</td>\n",
       "      <td>5.0</td>\n",
       "    </tr>\n",
       "    <tr>\n",
       "      <th>2</th>\n",
       "      <td>15.96</td>\n",
       "      <td>2.0</td>\n",
       "    </tr>\n",
       "    <tr>\n",
       "      <th>3</th>\n",
       "      <td>13.49</td>\n",
       "      <td>1.0</td>\n",
       "    </tr>\n",
       "    <tr>\n",
       "      <th>4</th>\n",
       "      <td>12.69</td>\n",
       "      <td>0.0</td>\n",
       "    </tr>\n",
       "  </tbody>\n",
       "</table>\n",
       "</div>"
      ],
      "text/plain": [
       "   int_rate  inq_last_6mths\n",
       "0     10.65             1.0\n",
       "1     15.27             5.0\n",
       "2     15.96             2.0\n",
       "3     13.49             1.0\n",
       "4     12.69             0.0"
      ]
     },
     "execution_count": 45,
     "metadata": {},
     "output_type": "execute_result"
    }
   ],
   "source": [
    "num_additional.head()"
   ]
  },
  {
   "cell_type": "code",
   "execution_count": 46,
   "metadata": {},
   "outputs": [],
   "source": [
    "# Bringing it together\n",
    "X_all=pd.concat([select_features_df_char,select_features_df_num,num_additional],axis=1,join=\"inner\")"
   ]
  },
  {
   "cell_type": "code",
   "execution_count": 48,
   "metadata": {},
   "outputs": [
    {
     "data": {
      "text/plain": [
       "0    840151\n",
       "1     47228\n",
       "Name: target, dtype: int64"
      ]
     },
     "execution_count": 48,
     "metadata": {},
     "output_type": "execute_result"
    }
   ],
   "source": [
    "Y['target'].value_counts()"
   ]
  },
  {
   "cell_type": "code",
   "execution_count": 49,
   "metadata": {},
   "outputs": [],
   "source": [
    "# Split the data between Train and Testing datasets\n",
    "\n",
    "from sklearn.model_selection import train_test_split\n",
    "X_train, X_test, y_train, y_test=train_test_split(X_all, Y, test_size=0.3, random_state=42)"
   ]
  },
  {
   "cell_type": "code",
   "execution_count": 50,
   "metadata": {},
   "outputs": [
    {
     "data": {
      "text/plain": [
       "target    0.053195\n",
       "dtype: float64"
      ]
     },
     "execution_count": 50,
     "metadata": {},
     "output_type": "execute_result"
    }
   ],
   "source": [
    "y_train.mean()"
   ]
  },
  {
   "cell_type": "code",
   "execution_count": 51,
   "metadata": {
    "scrolled": true
   },
   "outputs": [
    {
     "data": {
      "text/plain": [
       "target    0.053284\n",
       "dtype: float64"
      ]
     },
     "execution_count": 51,
     "metadata": {},
     "output_type": "execute_result"
    }
   ],
   "source": [
    "y_test.mean()"
   ]
  },
  {
   "cell_type": "code",
   "execution_count": null,
   "metadata": {},
   "outputs": [],
   "source": [
    "# Non Linearity in feature relationships are observed which makes tree methods a good choice\n",
    "# There are few options to consider among tree methods\n",
    "# White Box (Completely Explainable Set of Rules) - Decision Tree\n",
    "# Ensemble Methods - Random Forest (With Bagging)\n",
    "# Ensemble Methods - GBM/XGBoost (Boosting)"
   ]
  },
  {
   "cell_type": "code",
   "execution_count": 52,
   "metadata": {},
   "outputs": [
    {
     "data": {
      "text/plain": [
       "DecisionTreeClassifier(random_state=0)"
      ]
     },
     "execution_count": 52,
     "metadata": {},
     "output_type": "execute_result"
    }
   ],
   "source": [
    "# Building a Decision Tree Model\n",
    "from sklearn.tree import DecisionTreeClassifier\n",
    "dtree=DecisionTreeClassifier(random_state=0)\n",
    "dtree.fit(X_train,y_train)"
   ]
  },
  {
   "cell_type": "markdown",
   "metadata": {},
   "source": [
    "from sklearn import tree\n",
    "import pydotplus\n",
    "import matplotlib.pyplot as plt\n",
    "plt.figure(figsize=[50,10])\n",
    "tree.plot_tree(dtree,filled=True,fontsize=20,rounded=True,feature_names=X_all.columns)\n",
    "plt.show()"
   ]
  },
  {
   "cell_type": "code",
   "execution_count": 53,
   "metadata": {},
   "outputs": [
    {
     "name": "stderr",
     "output_type": "stream",
     "text": [
      "C:\\Anaconda_Python\\lib\\site-packages\\ipykernel_launcher.py:4: DataConversionWarning: A column-vector y was passed when a 1d array was expected. Please change the shape of y to (n_samples,), for example using ravel().\n",
      "  after removing the cwd from sys.path.\n"
     ]
    },
    {
     "data": {
      "text/plain": [
       "RandomForestClassifier(random_state=0)"
      ]
     },
     "execution_count": 53,
     "metadata": {},
     "output_type": "execute_result"
    }
   ],
   "source": [
    "# Building a Random Forest Model\n",
    "from sklearn.ensemble import RandomForestClassifier\n",
    "rf=RandomForestClassifier(random_state=0)\n",
    "rf.fit(X_train,y_train)"
   ]
  },
  {
   "cell_type": "code",
   "execution_count": 68,
   "metadata": {},
   "outputs": [
    {
     "data": {
      "text/html": [
       "<div>\n",
       "<style scoped>\n",
       "    .dataframe tbody tr th:only-of-type {\n",
       "        vertical-align: middle;\n",
       "    }\n",
       "\n",
       "    .dataframe tbody tr th {\n",
       "        vertical-align: top;\n",
       "    }\n",
       "\n",
       "    .dataframe thead th {\n",
       "        text-align: right;\n",
       "    }\n",
       "</style>\n",
       "<table border=\"1\" class=\"dataframe\">\n",
       "  <thead>\n",
       "    <tr style=\"text-align: right;\">\n",
       "      <th></th>\n",
       "      <th>importance</th>\n",
       "    </tr>\n",
       "  </thead>\n",
       "  <tbody>\n",
       "    <tr>\n",
       "      <th>recoveries</th>\n",
       "      <td>0.209763</td>\n",
       "    </tr>\n",
       "    <tr>\n",
       "      <th>collection_recovery_fee</th>\n",
       "      <td>0.181136</td>\n",
       "    </tr>\n",
       "    <tr>\n",
       "      <th>total_rec_prncp</th>\n",
       "      <td>0.137650</td>\n",
       "    </tr>\n",
       "    <tr>\n",
       "      <th>last_pymnt_amnt</th>\n",
       "      <td>0.117341</td>\n",
       "    </tr>\n",
       "    <tr>\n",
       "      <th>out_prncp</th>\n",
       "      <td>0.070335</td>\n",
       "    </tr>\n",
       "    <tr>\n",
       "      <th>out_prncp_inv</th>\n",
       "      <td>0.070184</td>\n",
       "    </tr>\n",
       "    <tr>\n",
       "      <th>total_pymnt</th>\n",
       "      <td>0.056898</td>\n",
       "    </tr>\n",
       "    <tr>\n",
       "      <th>total_pymnt_inv</th>\n",
       "      <td>0.049729</td>\n",
       "    </tr>\n",
       "    <tr>\n",
       "      <th>int_rate</th>\n",
       "      <td>0.024458</td>\n",
       "    </tr>\n",
       "    <tr>\n",
       "      <th>revol_bal</th>\n",
       "      <td>0.020029</td>\n",
       "    </tr>\n",
       "    <tr>\n",
       "      <th>total_rev_hi_lim</th>\n",
       "      <td>0.018173</td>\n",
       "    </tr>\n",
       "    <tr>\n",
       "      <th>tot_cur_bal</th>\n",
       "      <td>0.018058</td>\n",
       "    </tr>\n",
       "    <tr>\n",
       "      <th>annual_inc</th>\n",
       "      <td>0.011886</td>\n",
       "    </tr>\n",
       "    <tr>\n",
       "      <th>inq_last_6mths</th>\n",
       "      <td>0.003624</td>\n",
       "    </tr>\n",
       "    <tr>\n",
       "      <th>emp_length_10+ years</th>\n",
       "      <td>0.001470</td>\n",
       "    </tr>\n",
       "    <tr>\n",
       "      <th>grade_E</th>\n",
       "      <td>0.001407</td>\n",
       "    </tr>\n",
       "    <tr>\n",
       "      <th>grade_D</th>\n",
       "      <td>0.001326</td>\n",
       "    </tr>\n",
       "    <tr>\n",
       "      <th>grade_B</th>\n",
       "      <td>0.001283</td>\n",
       "    </tr>\n",
       "    <tr>\n",
       "      <th>home_own_1_OWN</th>\n",
       "      <td>0.001166</td>\n",
       "    </tr>\n",
       "    <tr>\n",
       "      <th>home_own_1_RENT</th>\n",
       "      <td>0.001111</td>\n",
       "    </tr>\n",
       "    <tr>\n",
       "      <th>grade_F</th>\n",
       "      <td>0.000906</td>\n",
       "    </tr>\n",
       "    <tr>\n",
       "      <th>emp_length_6 years</th>\n",
       "      <td>0.000625</td>\n",
       "    </tr>\n",
       "    <tr>\n",
       "      <th>purpose_1_small_business</th>\n",
       "      <td>0.000533</td>\n",
       "    </tr>\n",
       "    <tr>\n",
       "      <th>purpose_1_moving</th>\n",
       "      <td>0.000443</td>\n",
       "    </tr>\n",
       "    <tr>\n",
       "      <th>purpose_1_wedding</th>\n",
       "      <td>0.000264</td>\n",
       "    </tr>\n",
       "    <tr>\n",
       "      <th>grade_G</th>\n",
       "      <td>0.000203</td>\n",
       "    </tr>\n",
       "  </tbody>\n",
       "</table>\n",
       "</div>"
      ],
      "text/plain": [
       "                          importance\n",
       "recoveries                  0.209763\n",
       "collection_recovery_fee     0.181136\n",
       "total_rec_prncp             0.137650\n",
       "last_pymnt_amnt             0.117341\n",
       "out_prncp                   0.070335\n",
       "out_prncp_inv               0.070184\n",
       "total_pymnt                 0.056898\n",
       "total_pymnt_inv             0.049729\n",
       "int_rate                    0.024458\n",
       "revol_bal                   0.020029\n",
       "total_rev_hi_lim            0.018173\n",
       "tot_cur_bal                 0.018058\n",
       "annual_inc                  0.011886\n",
       "inq_last_6mths              0.003624\n",
       "emp_length_10+ years        0.001470\n",
       "grade_E                     0.001407\n",
       "grade_D                     0.001326\n",
       "grade_B                     0.001283\n",
       "home_own_1_OWN              0.001166\n",
       "home_own_1_RENT             0.001111\n",
       "grade_F                     0.000906\n",
       "emp_length_6 years          0.000625\n",
       "purpose_1_small_business    0.000533\n",
       "purpose_1_moving            0.000443\n",
       "purpose_1_wedding           0.000264\n",
       "grade_G                     0.000203"
      ]
     },
     "execution_count": 68,
     "metadata": {},
     "output_type": "execute_result"
    }
   ],
   "source": [
    "import pandas as pd\n",
    "feature_importances=pd.DataFrame(rf.feature_importances_,\n",
    "                                 index=X_train.columns,\n",
    "                                 columns=['importance']).sort_values('importance',ascending=False)\n",
    "feature_importances"
   ]
  },
  {
   "cell_type": "code",
   "execution_count": 54,
   "metadata": {},
   "outputs": [
    {
     "name": "stderr",
     "output_type": "stream",
     "text": [
      "C:\\Anaconda_Python\\lib\\site-packages\\sklearn\\utils\\validation.py:72: DataConversionWarning: A column-vector y was passed when a 1d array was expected. Please change the shape of y to (n_samples, ), for example using ravel().\n",
      "  return f(**kwargs)\n"
     ]
    },
    {
     "data": {
      "text/plain": [
       "GradientBoostingClassifier(random_state=0)"
      ]
     },
     "execution_count": 54,
     "metadata": {},
     "output_type": "execute_result"
    }
   ],
   "source": [
    "# Building a Gradient Boosting Model\n",
    "from sklearn.ensemble import GradientBoostingClassifier\n",
    "clf=GradientBoostingClassifier(random_state=0)\n",
    "clf.fit(X_train,y_train)"
   ]
  },
  {
   "cell_type": "markdown",
   "metadata": {},
   "source": [
    "import pandas as pd\n",
    "feature_importances=pd.DataFrame(clf.feature_importances_,\n",
    "                                 index=X_train.columns,\n",
    "                                 columns=['importance']).sort_values('importance',ascending=False)\n",
    "feature_importances"
   ]
  },
  {
   "cell_type": "code",
   "execution_count": 55,
   "metadata": {},
   "outputs": [
    {
     "name": "stderr",
     "output_type": "stream",
     "text": [
      "C:\\Anaconda_Python\\lib\\site-packages\\sklearn\\utils\\validation.py:72: DataConversionWarning: A column-vector y was passed when a 1d array was expected. Please change the shape of y to (n_samples, ), for example using ravel().\n",
      "  return f(**kwargs)\n",
      "C:\\Anaconda_Python\\lib\\site-packages\\sklearn\\utils\\validation.py:72: DataConversionWarning: A column-vector y was passed when a 1d array was expected. Please change the shape of y to (n_samples, ), for example using ravel().\n",
      "  return f(**kwargs)\n"
     ]
    },
    {
     "data": {
      "text/plain": [
       "XGBClassifier(base_score=0.5, booster='gbtree', colsample_bylevel=1,\n",
       "              colsample_bynode=1, colsample_bytree=1, gamma=0, gpu_id=-1,\n",
       "              importance_type='gain', interaction_constraints='',\n",
       "              learning_rate=0.300000012, max_delta_step=0, max_depth=6,\n",
       "              min_child_weight=1, missing=nan, monotone_constraints='()',\n",
       "              n_estimators=100, n_jobs=0, num_parallel_tree=1, random_state=0,\n",
       "              reg_alpha=0, reg_lambda=1, scale_pos_weight=1, subsample=1,\n",
       "              tree_method='exact', validate_parameters=1, verbosity=None)"
      ]
     },
     "execution_count": 55,
     "metadata": {},
     "output_type": "execute_result"
    }
   ],
   "source": [
    "# Building a XGBoost Model\n",
    "from xgboost import XGBClassifier\n",
    "xgb=XGBClassifier(random_state=0)\n",
    "xgb.fit(X_train,y_train)"
   ]
  },
  {
   "cell_type": "code",
   "execution_count": 57,
   "metadata": {},
   "outputs": [],
   "source": [
    "# Model Evaluation\n",
    "y_pred=clf.predict(X_test)\n",
    "y_pred_tree=dtree.predict(X_test)\n",
    "y_pred_rf=rf.predict(X_test)\n",
    "y_pred_xgb=xgb.predict(X_test)\n"
   ]
  },
  {
   "cell_type": "code",
   "execution_count": 58,
   "metadata": {},
   "outputs": [],
   "source": [
    "from sklearn import metrics\n",
    "from sklearn.metrics import confusion_matrix"
   ]
  },
  {
   "cell_type": "code",
   "execution_count": 59,
   "metadata": {},
   "outputs": [
    {
     "name": "stdout",
     "output_type": "stream",
     "text": [
      "Accuracy: 0.9931934458743717\n",
      "Precision 0.9353930607361531\n",
      "Recall 0.9369756785336624\n",
      "f1_score 0.9361837007818554\n"
     ]
    }
   ],
   "source": [
    "from sklearn import metrics\n",
    "print(\"Accuracy:\",metrics.accuracy_score(y_test, y_pred_tree))\n",
    "print(\"Precision\",metrics.precision_score(y_test,y_pred_tree))\n",
    "print(\"Recall\",metrics.recall_score(y_test,y_pred_tree))\n",
    "print(\"f1_score\",metrics.f1_score(y_test,y_pred_tree))"
   ]
  },
  {
   "cell_type": "code",
   "execution_count": 63,
   "metadata": {},
   "outputs": [
    {
     "data": {
      "text/plain": [
       "<sklearn.metrics._plot.confusion_matrix.ConfusionMatrixDisplay at 0x1ab8cb16ac8>"
      ]
     },
     "execution_count": 63,
     "metadata": {},
     "output_type": "execute_result"
    },
    {
     "data": {
      "image/png": "[encoded data removed]",
      "text/plain": [
       "<Figure size 432x288 with 2 Axes>"
      ]
     },
     "metadata": {},
     "output_type": "display_data"
    }
   ],
   "source": [
    "metrics.plot_confusion_matrix(dtree,X_all,Y)"
   ]
  },
  {
   "cell_type": "code",
   "execution_count": 64,
   "metadata": {},
   "outputs": [
    {
     "name": "stdout",
     "output_type": "stream",
     "text": [
      "Accuracy: 0.995601283178195\n",
      "Precision 0.9882935614588023\n",
      "Recall 0.9284455410645047\n",
      "f1_score 0.9574352077350878\n"
     ]
    }
   ],
   "source": [
    "from sklearn import metrics\n",
    "print(\"Accuracy:\",metrics.accuracy_score(y_test, y_pred_rf))\n",
    "print(\"Precision\",metrics.precision_score(y_test,y_pred_rf))\n",
    "print(\"Recall\",metrics.recall_score(y_test,y_pred_rf))\n",
    "print(\"f1_score\",metrics.f1_score(y_test,y_pred_rf))"
   ]
  },
  {
   "cell_type": "code",
   "execution_count": 66,
   "metadata": {},
   "outputs": [
    {
     "data": {
      "text/plain": [
       "<sklearn.metrics._plot.confusion_matrix.ConfusionMatrixDisplay at 0x1ac9800cfd0>"
      ]
     },
     "execution_count": 66,
     "metadata": {},
     "output_type": "execute_result"
    },
    {
     "data": {
      "image/png": "[encoded data removed]",
      "text/plain": [
       "<Figure size 432x288 with 2 Axes>"
      ]
     },
     "metadata": {},
     "output_type": "display_data"
    }
   ],
   "source": [
    "metrics.plot_confusion_matrix(rf,X_all,Y)"
   ]
  },
  {
   "cell_type": "code",
   "execution_count": 70,
   "metadata": {},
   "outputs": [
    {
     "name": "stdout",
     "output_type": "stream",
     "text": [
      "Accuracy: 0.9925285672428948\n",
      "Precision 0.9622498483929655\n",
      "Recall 0.8948889672188932\n",
      "f1_score 0.9273477736786354\n"
     ]
    }
   ],
   "source": [
    "from sklearn import metrics\n",
    "print(\"Accuracy:\",metrics.accuracy_score(y_test, y_pred))\n",
    "print(\"Precision\",metrics.precision_score(y_test,y_pred))\n",
    "print(\"Recall\",metrics.recall_score(y_test,y_pred))\n",
    "print(\"f1_score\",metrics.f1_score(y_test,y_pred))"
   ]
  },
  {
   "cell_type": "code",
   "execution_count": 71,
   "metadata": {},
   "outputs": [
    {
     "data": {
      "text/plain": [
       "<sklearn.metrics._plot.confusion_matrix.ConfusionMatrixDisplay at 0x1ac980a5828>"
      ]
     },
     "execution_count": 71,
     "metadata": {},
     "output_type": "execute_result"
    },
    {
     "data": {
      "image/png": "[encoded data removed]",
      "text/plain": [
       "<Figure size 432x288 with 2 Axes>"
      ]
     },
     "metadata": {},
     "output_type": "display_data"
    }
   ],
   "source": [
    "metrics.plot_confusion_matrix(clf,X_all,Y)"
   ]
  },
  {
   "cell_type": "code",
   "execution_count": 72,
   "metadata": {},
   "outputs": [
    {
     "name": "stdout",
     "output_type": "stream",
     "text": [
      "Accuracy: 0.9971789612867843\n",
      "Precision 0.9944060061828353\n",
      "Recall 0.9524145223827988\n",
      "f1_score 0.9729574016059919\n"
     ]
    }
   ],
   "source": [
    "from sklearn import metrics\n",
    "print(\"Accuracy:\",metrics.accuracy_score(y_test, y_pred_xgb))\n",
    "print(\"Precision\",metrics.precision_score(y_test,y_pred_xgb))\n",
    "print(\"Recall\",metrics.recall_score(y_test,y_pred_xgb))\n",
    "print(\"f1_score\",metrics.f1_score(y_test,y_pred_xgb))"
   ]
  },
  {
   "cell_type": "code",
   "execution_count": 73,
   "metadata": {},
   "outputs": [
    {
     "data": {
      "text/plain": [
       "<sklearn.metrics._plot.confusion_matrix.ConfusionMatrixDisplay at 0x1ac9bc4d278>"
      ]
     },
     "execution_count": 73,
     "metadata": {},
     "output_type": "execute_result"
    },
    {
     "data": {
      "image/png": "[encoded data removed]",
      "text/plain": [
       "<Figure size 432x288 with 2 Axes>"
      ]
     },
     "metadata": {},
     "output_type": "display_data"
    }
   ],
   "source": [
    "metrics.plot_confusion_matrix(xgb,X_all,Y)"
   ]
  },
  {
   "cell_type": "code",
   "execution_count": null,
   "metadata": {},
   "outputs": [],
   "source": [
    "# Lorenz Curve"
   ]
  },
  {
   "cell_type": "code",
   "execution_count": null,
   "metadata": {},
   "outputs": [],
   "source": [
    "#Decsion Tree Lorenz Curve"
   ]
  },
  {
   "cell_type": "code",
   "execution_count": 78,
   "metadata": {},
   "outputs": [
    {
     "data": {
      "text/html": [
       "<div>\n",
       "<style scoped>\n",
       "    .dataframe tbody tr th:only-of-type {\n",
       "        vertical-align: middle;\n",
       "    }\n",
       "\n",
       "    .dataframe tbody tr th {\n",
       "        vertical-align: top;\n",
       "    }\n",
       "\n",
       "    .dataframe thead th {\n",
       "        text-align: right;\n",
       "    }\n",
       "</style>\n",
       "<table border=\"1\" class=\"dataframe\">\n",
       "  <thead>\n",
       "    <tr style=\"text-align: right;\">\n",
       "      <th></th>\n",
       "      <th>P_Rank_RF</th>\n",
       "      <th>count</th>\n",
       "      <th>mean</th>\n",
       "      <th>N_events</th>\n",
       "      <th>cum_events</th>\n",
       "      <th>event_cap</th>\n",
       "      <th>cum_event_cap</th>\n",
       "      <th>random_cap</th>\n",
       "      <th>cum_random_cap</th>\n",
       "      <th>decile</th>\n",
       "      <th>lift_over_random</th>\n",
       "    </tr>\n",
       "  </thead>\n",
       "  <tbody>\n",
       "    <tr>\n",
       "      <th>0</th>\n",
       "      <td>10</td>\n",
       "      <td>88738</td>\n",
       "      <td>0.522606</td>\n",
       "      <td>46375.0</td>\n",
       "      <td>46375.0</td>\n",
       "      <td>0.981939</td>\n",
       "      <td>0.981939</td>\n",
       "      <td>0.100000</td>\n",
       "      <td>0.100000</td>\n",
       "      <td>1</td>\n",
       "      <td>9.819376</td>\n",
       "    </tr>\n",
       "    <tr>\n",
       "      <th>1</th>\n",
       "      <td>9</td>\n",
       "      <td>88738</td>\n",
       "      <td>0.000823</td>\n",
       "      <td>73.0</td>\n",
       "      <td>46448.0</td>\n",
       "      <td>0.001546</td>\n",
       "      <td>0.983484</td>\n",
       "      <td>0.100000</td>\n",
       "      <td>0.200000</td>\n",
       "      <td>2</td>\n",
       "      <td>4.917416</td>\n",
       "    </tr>\n",
       "    <tr>\n",
       "      <th>2</th>\n",
       "      <td>8</td>\n",
       "      <td>88738</td>\n",
       "      <td>0.000327</td>\n",
       "      <td>29.0</td>\n",
       "      <td>46477.0</td>\n",
       "      <td>0.000614</td>\n",
       "      <td>0.984098</td>\n",
       "      <td>0.100000</td>\n",
       "      <td>0.300000</td>\n",
       "      <td>3</td>\n",
       "      <td>3.280324</td>\n",
       "    </tr>\n",
       "    <tr>\n",
       "      <th>3</th>\n",
       "      <td>7</td>\n",
       "      <td>88738</td>\n",
       "      <td>0.000056</td>\n",
       "      <td>5.0</td>\n",
       "      <td>46482.0</td>\n",
       "      <td>0.000106</td>\n",
       "      <td>0.984204</td>\n",
       "      <td>0.100000</td>\n",
       "      <td>0.400000</td>\n",
       "      <td>4</td>\n",
       "      <td>2.460508</td>\n",
       "    </tr>\n",
       "    <tr>\n",
       "      <th>4</th>\n",
       "      <td>6</td>\n",
       "      <td>88737</td>\n",
       "      <td>0.000000</td>\n",
       "      <td>0.0</td>\n",
       "      <td>46482.0</td>\n",
       "      <td>0.000000</td>\n",
       "      <td>0.984204</td>\n",
       "      <td>0.099999</td>\n",
       "      <td>0.499999</td>\n",
       "      <td>5</td>\n",
       "      <td>1.968411</td>\n",
       "    </tr>\n",
       "    <tr>\n",
       "      <th>5</th>\n",
       "      <td>5</td>\n",
       "      <td>88738</td>\n",
       "      <td>0.001251</td>\n",
       "      <td>111.0</td>\n",
       "      <td>46593.0</td>\n",
       "      <td>0.002350</td>\n",
       "      <td>0.986555</td>\n",
       "      <td>0.100000</td>\n",
       "      <td>0.600000</td>\n",
       "      <td>6</td>\n",
       "      <td>1.644259</td>\n",
       "    </tr>\n",
       "    <tr>\n",
       "      <th>6</th>\n",
       "      <td>4</td>\n",
       "      <td>88738</td>\n",
       "      <td>0.001521</td>\n",
       "      <td>135.0</td>\n",
       "      <td>46728.0</td>\n",
       "      <td>0.002858</td>\n",
       "      <td>0.989413</td>\n",
       "      <td>0.100000</td>\n",
       "      <td>0.700000</td>\n",
       "      <td>7</td>\n",
       "      <td>1.413448</td>\n",
       "    </tr>\n",
       "    <tr>\n",
       "      <th>7</th>\n",
       "      <td>3</td>\n",
       "      <td>88738</td>\n",
       "      <td>0.001533</td>\n",
       "      <td>136.0</td>\n",
       "      <td>46864.0</td>\n",
       "      <td>0.002880</td>\n",
       "      <td>0.992293</td>\n",
       "      <td>0.100000</td>\n",
       "      <td>0.800000</td>\n",
       "      <td>8</td>\n",
       "      <td>1.240366</td>\n",
       "    </tr>\n",
       "    <tr>\n",
       "      <th>8</th>\n",
       "      <td>2</td>\n",
       "      <td>88738</td>\n",
       "      <td>0.001859</td>\n",
       "      <td>165.0</td>\n",
       "      <td>47029.0</td>\n",
       "      <td>0.003494</td>\n",
       "      <td>0.995786</td>\n",
       "      <td>0.100000</td>\n",
       "      <td>0.900000</td>\n",
       "      <td>9</td>\n",
       "      <td>1.106429</td>\n",
       "    </tr>\n",
       "    <tr>\n",
       "      <th>9</th>\n",
       "      <td>1</td>\n",
       "      <td>88738</td>\n",
       "      <td>0.002243</td>\n",
       "      <td>199.0</td>\n",
       "      <td>47228.0</td>\n",
       "      <td>0.004214</td>\n",
       "      <td>1.000000</td>\n",
       "      <td>0.100000</td>\n",
       "      <td>1.000000</td>\n",
       "      <td>10</td>\n",
       "      <td>1.000000</td>\n",
       "    </tr>\n",
       "  </tbody>\n",
       "</table>\n",
       "</div>"
      ],
      "text/plain": [
       "   P_Rank_RF  count      mean  N_events  cum_events  event_cap  cum_event_cap  \\\n",
       "0         10  88738  0.522606   46375.0     46375.0   0.981939       0.981939   \n",
       "1          9  88738  0.000823      73.0     46448.0   0.001546       0.983484   \n",
       "2          8  88738  0.000327      29.0     46477.0   0.000614       0.984098   \n",
       "3          7  88738  0.000056       5.0     46482.0   0.000106       0.984204   \n",
       "4          6  88737  0.000000       0.0     46482.0   0.000000       0.984204   \n",
       "5          5  88738  0.001251     111.0     46593.0   0.002350       0.986555   \n",
       "6          4  88738  0.001521     135.0     46728.0   0.002858       0.989413   \n",
       "7          3  88738  0.001533     136.0     46864.0   0.002880       0.992293   \n",
       "8          2  88738  0.001859     165.0     47029.0   0.003494       0.995786   \n",
       "9          1  88738  0.002243     199.0     47228.0   0.004214       1.000000   \n",
       "\n",
       "   random_cap  cum_random_cap  decile  lift_over_random  \n",
       "0    0.100000        0.100000       1          9.819376  \n",
       "1    0.100000        0.200000       2          4.917416  \n",
       "2    0.100000        0.300000       3          3.280324  \n",
       "3    0.100000        0.400000       4          2.460508  \n",
       "4    0.099999        0.499999       5          1.968411  \n",
       "5    0.100000        0.600000       6          1.644259  \n",
       "6    0.100000        0.700000       7          1.413448  \n",
       "7    0.100000        0.800000       8          1.240366  \n",
       "8    0.100000        0.900000       9          1.106429  \n",
       "9    0.100000        1.000000      10          1.000000  "
      ]
     },
     "execution_count": 78,
     "metadata": {},
     "output_type": "execute_result"
    }
   ],
   "source": [
    "y_pred_prob = dtree.predict_proba(X_all)[:, 1]\n",
    "df_loan['y_pred_P']=pd.DataFrame(y_pred_prob)\n",
    "df_loan['P_Rank_RF']=pd.qcut(df_loan['y_pred_P'].rank(method='first').values,10,duplicates='drop').codes+1\n",
    "rank_df=df_loan.groupby('P_Rank_RF')['target'].agg(['count','mean'])\n",
    "rank_df=pd.DataFrame(rank_df)\n",
    "sorted_rank_df=rank_df.sort_values(by='P_Rank_RF',ascending=False)\n",
    "sorted_rank_df['N_events']=rank_df['count']*rank_df['mean']\n",
    "sorted_rank_df['cum_events']=sorted_rank_df['N_events'].cumsum()\n",
    "sorted_rank_df['event_cap']=sorted_rank_df['N_events']/max(sorted_rank_df['N_events'].cumsum())\n",
    "sorted_rank_df['cum_event_cap']=sorted_rank_df['event_cap'].cumsum()\n",
    "sorted_rank_df['random_cap']=sorted_rank_df['count']/max(sorted_rank_df['count'].cumsum())\n",
    "sorted_rank_df['cum_random_cap']=sorted_rank_df['random_cap'].cumsum()\n",
    "sorted_reindexed=sorted_rank_df.reset_index()\n",
    "sorted_reindexed['decile']=sorted_reindexed.index+1\n",
    "sorted_reindexed['lift_over_random']=sorted_reindexed['cum_event_cap']/sorted_reindexed['cum_random_cap']\n",
    "sorted_reindexed"
   ]
  },
  {
   "cell_type": "code",
   "execution_count": 79,
   "metadata": {},
   "outputs": [
    {
     "data": {
      "image/png": "[encoded data removed]",
      "text/plain": [
       "<Figure size 432x288 with 1 Axes>"
      ]
     },
     "metadata": {},
     "output_type": "display_data"
    }
   ],
   "source": [
    "ax = sns.lineplot( x=\"decile\", y=\"lift_over_random\", data=sorted_reindexed)\n",
    "ax = sns.lineplot( x=\"decile\", y=\"random_cap\", data=sorted_reindexed)"
   ]
  },
  {
   "cell_type": "code",
   "execution_count": null,
   "metadata": {},
   "outputs": [],
   "source": [
    "df.groupby('P_Rank_RF')['y_pred_P'].agg(['min','max'])"
   ]
  },
  {
   "cell_type": "code",
   "execution_count": 80,
   "metadata": {},
   "outputs": [
    {
     "data": {
      "text/html": [
       "<div>\n",
       "<style scoped>\n",
       "    .dataframe tbody tr th:only-of-type {\n",
       "        vertical-align: middle;\n",
       "    }\n",
       "\n",
       "    .dataframe tbody tr th {\n",
       "        vertical-align: top;\n",
       "    }\n",
       "\n",
       "    .dataframe thead th {\n",
       "        text-align: right;\n",
       "    }\n",
       "</style>\n",
       "<table border=\"1\" class=\"dataframe\">\n",
       "  <thead>\n",
       "    <tr style=\"text-align: right;\">\n",
       "      <th></th>\n",
       "      <th>P_Rank_RF</th>\n",
       "      <th>count</th>\n",
       "      <th>mean</th>\n",
       "      <th>N_events</th>\n",
       "      <th>cum_events</th>\n",
       "      <th>event_cap</th>\n",
       "      <th>cum_event_cap</th>\n",
       "      <th>random_cap</th>\n",
       "      <th>cum_random_cap</th>\n",
       "      <th>decile</th>\n",
       "      <th>lift_over_random</th>\n",
       "    </tr>\n",
       "  </thead>\n",
       "  <tbody>\n",
       "    <tr>\n",
       "      <th>0</th>\n",
       "      <td>10</td>\n",
       "      <td>88738</td>\n",
       "      <td>0.525220</td>\n",
       "      <td>46607.0</td>\n",
       "      <td>46607.0</td>\n",
       "      <td>0.986851</td>\n",
       "      <td>0.986851</td>\n",
       "      <td>0.100000</td>\n",
       "      <td>0.100000</td>\n",
       "      <td>1</td>\n",
       "      <td>9.868499</td>\n",
       "    </tr>\n",
       "    <tr>\n",
       "      <th>1</th>\n",
       "      <td>9</td>\n",
       "      <td>88738</td>\n",
       "      <td>0.003369</td>\n",
       "      <td>299.0</td>\n",
       "      <td>46906.0</td>\n",
       "      <td>0.006331</td>\n",
       "      <td>0.993182</td>\n",
       "      <td>0.100000</td>\n",
       "      <td>0.200000</td>\n",
       "      <td>2</td>\n",
       "      <td>4.965904</td>\n",
       "    </tr>\n",
       "    <tr>\n",
       "      <th>2</th>\n",
       "      <td>8</td>\n",
       "      <td>88738</td>\n",
       "      <td>0.001476</td>\n",
       "      <td>131.0</td>\n",
       "      <td>47037.0</td>\n",
       "      <td>0.002774</td>\n",
       "      <td>0.995956</td>\n",
       "      <td>0.100000</td>\n",
       "      <td>0.300000</td>\n",
       "      <td>3</td>\n",
       "      <td>3.319849</td>\n",
       "    </tr>\n",
       "    <tr>\n",
       "      <th>3</th>\n",
       "      <td>7</td>\n",
       "      <td>88738</td>\n",
       "      <td>0.000856</td>\n",
       "      <td>76.0</td>\n",
       "      <td>47113.0</td>\n",
       "      <td>0.001609</td>\n",
       "      <td>0.997565</td>\n",
       "      <td>0.100000</td>\n",
       "      <td>0.400000</td>\n",
       "      <td>4</td>\n",
       "      <td>2.493910</td>\n",
       "    </tr>\n",
       "    <tr>\n",
       "      <th>4</th>\n",
       "      <td>6</td>\n",
       "      <td>88737</td>\n",
       "      <td>0.000361</td>\n",
       "      <td>32.0</td>\n",
       "      <td>47145.0</td>\n",
       "      <td>0.000678</td>\n",
       "      <td>0.998243</td>\n",
       "      <td>0.099999</td>\n",
       "      <td>0.499999</td>\n",
       "      <td>5</td>\n",
       "      <td>1.996487</td>\n",
       "    </tr>\n",
       "    <tr>\n",
       "      <th>5</th>\n",
       "      <td>5</td>\n",
       "      <td>88738</td>\n",
       "      <td>0.000428</td>\n",
       "      <td>38.0</td>\n",
       "      <td>47183.0</td>\n",
       "      <td>0.000805</td>\n",
       "      <td>0.999047</td>\n",
       "      <td>0.100000</td>\n",
       "      <td>0.600000</td>\n",
       "      <td>6</td>\n",
       "      <td>1.665080</td>\n",
       "    </tr>\n",
       "    <tr>\n",
       "      <th>6</th>\n",
       "      <td>4</td>\n",
       "      <td>88738</td>\n",
       "      <td>0.000214</td>\n",
       "      <td>19.0</td>\n",
       "      <td>47202.0</td>\n",
       "      <td>0.000402</td>\n",
       "      <td>0.999449</td>\n",
       "      <td>0.100000</td>\n",
       "      <td>0.700000</td>\n",
       "      <td>7</td>\n",
       "      <td>1.427786</td>\n",
       "    </tr>\n",
       "    <tr>\n",
       "      <th>7</th>\n",
       "      <td>3</td>\n",
       "      <td>88738</td>\n",
       "      <td>0.000124</td>\n",
       "      <td>11.0</td>\n",
       "      <td>47213.0</td>\n",
       "      <td>0.000233</td>\n",
       "      <td>0.999682</td>\n",
       "      <td>0.100000</td>\n",
       "      <td>0.800000</td>\n",
       "      <td>8</td>\n",
       "      <td>1.249603</td>\n",
       "    </tr>\n",
       "    <tr>\n",
       "      <th>8</th>\n",
       "      <td>2</td>\n",
       "      <td>88738</td>\n",
       "      <td>0.000113</td>\n",
       "      <td>10.0</td>\n",
       "      <td>47223.0</td>\n",
       "      <td>0.000212</td>\n",
       "      <td>0.999894</td>\n",
       "      <td>0.100000</td>\n",
       "      <td>0.900000</td>\n",
       "      <td>9</td>\n",
       "      <td>1.110994</td>\n",
       "    </tr>\n",
       "    <tr>\n",
       "      <th>9</th>\n",
       "      <td>1</td>\n",
       "      <td>88738</td>\n",
       "      <td>0.000056</td>\n",
       "      <td>5.0</td>\n",
       "      <td>47228.0</td>\n",
       "      <td>0.000106</td>\n",
       "      <td>1.000000</td>\n",
       "      <td>0.100000</td>\n",
       "      <td>1.000000</td>\n",
       "      <td>10</td>\n",
       "      <td>1.000000</td>\n",
       "    </tr>\n",
       "  </tbody>\n",
       "</table>\n",
       "</div>"
      ],
      "text/plain": [
       "   P_Rank_RF  count      mean  N_events  cum_events  event_cap  cum_event_cap  \\\n",
       "0         10  88738  0.525220   46607.0     46607.0   0.986851       0.986851   \n",
       "1          9  88738  0.003369     299.0     46906.0   0.006331       0.993182   \n",
       "2          8  88738  0.001476     131.0     47037.0   0.002774       0.995956   \n",
       "3          7  88738  0.000856      76.0     47113.0   0.001609       0.997565   \n",
       "4          6  88737  0.000361      32.0     47145.0   0.000678       0.998243   \n",
       "5          5  88738  0.000428      38.0     47183.0   0.000805       0.999047   \n",
       "6          4  88738  0.000214      19.0     47202.0   0.000402       0.999449   \n",
       "7          3  88738  0.000124      11.0     47213.0   0.000233       0.999682   \n",
       "8          2  88738  0.000113      10.0     47223.0   0.000212       0.999894   \n",
       "9          1  88738  0.000056       5.0     47228.0   0.000106       1.000000   \n",
       "\n",
       "   random_cap  cum_random_cap  decile  lift_over_random  \n",
       "0    0.100000        0.100000       1          9.868499  \n",
       "1    0.100000        0.200000       2          4.965904  \n",
       "2    0.100000        0.300000       3          3.319849  \n",
       "3    0.100000        0.400000       4          2.493910  \n",
       "4    0.099999        0.499999       5          1.996487  \n",
       "5    0.100000        0.600000       6          1.665080  \n",
       "6    0.100000        0.700000       7          1.427786  \n",
       "7    0.100000        0.800000       8          1.249603  \n",
       "8    0.100000        0.900000       9          1.110994  \n",
       "9    0.100000        1.000000      10          1.000000  "
      ]
     },
     "execution_count": 80,
     "metadata": {},
     "output_type": "execute_result"
    }
   ],
   "source": [
    "y_pred_prob = xgb.predict_proba(X_all)[:, 1]\n",
    "df_loan['y_pred_P']=pd.DataFrame(y_pred_prob)\n",
    "df_loan['P_Rank_RF']=pd.qcut(df_loan['y_pred_P'].rank(method='first').values,10,duplicates='drop').codes+1\n",
    "rank_df=df_loan.groupby('P_Rank_RF')['target'].agg(['count','mean'])\n",
    "rank_df=pd.DataFrame(rank_df)\n",
    "sorted_rank_df=rank_df.sort_values(by='P_Rank_RF',ascending=False)\n",
    "sorted_rank_df['N_events']=rank_df['count']*rank_df['mean']\n",
    "sorted_rank_df['cum_events']=sorted_rank_df['N_events'].cumsum()\n",
    "sorted_rank_df['event_cap']=sorted_rank_df['N_events']/max(sorted_rank_df['N_events'].cumsum())\n",
    "sorted_rank_df['cum_event_cap']=sorted_rank_df['event_cap'].cumsum()\n",
    "sorted_rank_df['random_cap']=sorted_rank_df['count']/max(sorted_rank_df['count'].cumsum())\n",
    "sorted_rank_df['cum_random_cap']=sorted_rank_df['random_cap'].cumsum()\n",
    "sorted_reindexed=sorted_rank_df.reset_index()\n",
    "sorted_reindexed['decile']=sorted_reindexed.index+1\n",
    "sorted_reindexed['lift_over_random']=sorted_reindexed['cum_event_cap']/sorted_reindexed['cum_random_cap']\n",
    "sorted_reindexed"
   ]
  },
  {
   "cell_type": "code",
   "execution_count": 81,
   "metadata": {},
   "outputs": [
    {
     "data": {
      "image/png": "[encoded data removed]",
      "text/plain": [
       "<Figure size 432x288 with 1 Axes>"
      ]
     },
     "metadata": {},
     "output_type": "display_data"
    }
   ],
   "source": [
    "ax = sns.lineplot( x=\"decile\", y=\"lift_over_random\", data=sorted_reindexed)\n",
    "ax = sns.lineplot( x=\"decile\", y=\"random_cap\", data=sorted_reindexed)"
   ]
  },
  {
   "cell_type": "code",
   "execution_count": 33,
   "metadata": {},
   "outputs": [
    {
     "data": {
      "text/plain": [
       "0    25.285714\n",
       "dtype: float64"
      ]
     },
     "execution_count": 33,
     "metadata": {},
     "output_type": "execute_result"
    }
   ],
   "source": [
    "x=[15, 18, 21, 22, 26, 28, 28]\n",
    "df=pd.DataFrame(x)\n",
    "df.quantile(0.5)\n",
    "df.var()t"
   ]
  },
  {
   "cell_type": "code",
   "execution_count": 31,
   "metadata": {},
   "outputs": [],
   "source": []
  },
  {
   "cell_type": "code",
   "execution_count": null,
   "metadata": {},
   "outputs": [],
   "source": []
  }
 ],
 "metadata": {
  "kernelspec": {
   "display_name": "Python 3",
   "language": "python",
   "name": "python3"
  },
  "language_info": {
   "codemirror_mode": {
    "name": "ipython",
    "version": 3
   },
   "file_extension": ".py",
   "mimetype": "text/x-python",
   "name": "python",
   "nbconvert_exporter": "python",
   "pygments_lexer": "ipython3",
   "version": "3.7.4"
  }
 },
 "nbformat": 4,
 "nbformat_minor": 2
}
